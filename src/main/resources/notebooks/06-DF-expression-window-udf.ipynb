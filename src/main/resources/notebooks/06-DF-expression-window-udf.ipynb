{
 "cells": [
  {
   "cell_type": "code",
   "execution_count": 1,
   "id": "3456e3bc-b770-4a50-b563-9163a4eca554",
   "metadata": {},
   "outputs": [],
   "source": [
    "from pyspark.sql import SparkSession, Window\n",
    "from pyspark.sql.functions import *\n",
    "from pyspark.sql import functions as F\n",
    "\n",
    "import findspark\n",
    "findspark.init()\n",
    "\n",
    "spark = SparkSession. \\\n",
    "    builder. \\\n",
    "    appName(\"Data Sources\"). \\\n",
    "    master(\"local\"). \\\n",
    "    config(\"spark.jars\", \"jars/postgresql-42.2.19.jar\"). \\\n",
    "    config(\"spark.sql.legacy.timeParserPolicy\", \"LEGACY\"). \\\n",
    "    getOrCreate()"
   ]
  },
  {
   "cell_type": "code",
   "execution_count": 2,
   "id": "21ce3c10-b834-4e6c-b01b-5755b49f61c5",
   "metadata": {},
   "outputs": [
    {
     "name": "stdout",
     "output_type": "stream",
     "text": [
      "+-------------+-----------+------+\n",
      "|employee_name| department|salary|\n",
      "+-------------+-----------+------+\n",
      "|        James|      Sales|  3000|\n",
      "|         John|ServiceDesk|  4600|\n",
      "|      Michael|      Sales|  4600|\n",
      "|       Robert|      Sales|  4100|\n",
      "|        Maria|    Finance|  3000|\n",
      "|        James|      Sales|  3000|\n",
      "|        Scott|    Finance|  3300|\n",
      "|          Jen|    Finance|  3900|\n",
      "|         Jeff|  Marketing|  3000|\n",
      "|        Kumar|  Marketing|  2000|\n",
      "|         Saif|      Sales|  4100|\n",
      "+-------------+-----------+------+\n",
      "\n"
     ]
    }
   ],
   "source": [
    "simpleData = [(\"James\", \"Sales\", 3000), (\"John\", \"ServiceDesk\", 4600), (\"Michael\", \"Sales\", 4600), (\"Robert\", \"Sales\", 4100),\n",
    "                 (\"Maria\", \"Finance\", 3000), (\"James\", \"Sales\", 3000), (\"Scott\", \"Finance\", 3300), (\"Jen\", \"Finance\", 3900),\n",
    "                 (\"Jeff\", \"Marketing\", 3000), (\"Kumar\", \"Marketing\", 2000), (\"Saif\", \"Sales\", 4100)]\n",
    "\n",
    "employeeDF = spark.createDataFrame(simpleData).toDF(\"employee_name\", \"department\", \"salary\")\n",
    "\n",
    "employeeDF.show()\n"
   ]
  },
  {
   "cell_type": "markdown",
   "id": "e7ae49eb-e213-418d-81dd-00eafa77bc03",
   "metadata": {},
   "source": [
    "# Window functions"
   ]
  },
  {
   "cell_type": "code",
   "execution_count": 3,
   "id": "fe5aeed3-06db-477b-8e55-f562a2eb0038",
   "metadata": {},
   "outputs": [
    {
     "name": "stdout",
     "output_type": "stream",
     "text": [
      "== Physical Plan ==\n",
      "AdaptiveSparkPlan isFinalPlan=false\n",
      "+- HashAggregate(keys=[salary#8L], functions=[])\n",
      "   +- HashAggregate(keys=[salary#8L], functions=[])\n",
      "      +- Project [salary#8L]\n",
      "         +- Filter (dense_rank#27 = 2)\n",
      "            +- Window [dense_rank(salary#8L) windowspecdefinition(salary#8L DESC NULLS LAST, specifiedwindowframe(RowFrame, unboundedpreceding$(), currentrow$())) AS dense_rank#27], [salary#8L DESC NULLS LAST]\n",
      "               +- Sort [salary#8L DESC NULLS LAST], false, 0\n",
      "                  +- Exchange SinglePartition, ENSURE_REQUIREMENTS, [plan_id=42]\n",
      "                     +- Project [_3#2L AS salary#8L]\n",
      "                        +- Scan ExistingRDD[_1#0,_2#1,_3#2L]\n",
      "\n",
      "\n",
      "+------+\n",
      "|salary|\n",
      "+------+\n",
      "|  4100|\n",
      "+------+\n",
      "\n"
     ]
    }
   ],
   "source": [
    "# Window functions in Spark SQL\n",
    "\n",
    "employeeDF.createOrReplaceTempView(\"employee\")\n",
    "\n",
    "# How to find second salary in employee\n",
    "result_sql_df = spark.sql(\"\"\"select distinct salary from (\n",
    "                                select \n",
    "                                    employee_name, \n",
    "                                    department, \n",
    "                                    salary, \n",
    "                                    row_number() OVER (ORDER BY salary DESC) as row_num, \n",
    "                                    rank() OVER (ORDER BY salary DESC) as rank,\n",
    "                                    dense_rank() OVER (ORDER BY salary DESC) as dense_rank\n",
    "                              from employee) where dense_rank = 2\"\"\")\n",
    "\n",
    "result_sql_df.explain()\n",
    "result_sql_df.show()"
   ]
  },
  {
   "cell_type": "code",
   "execution_count": 4,
   "id": "5fb1242a-20d8-4c90-8868-233e1be85d45",
   "metadata": {},
   "outputs": [
    {
     "name": "stdout",
     "output_type": "stream",
     "text": [
      "== Physical Plan ==\n",
      "AdaptiveSparkPlan isFinalPlan=false\n",
      "+- Window [rank(salary#8L) windowspecdefinition(salary#8L DESC NULLS LAST, specifiedwindowframe(RowFrame, unboundedpreceding$(), currentrow$())) AS rank#53, row_number() windowspecdefinition(salary#8L DESC NULLS LAST, specifiedwindowframe(RowFrame, unboundedpreceding$(), currentrow$())) AS row_number#65, dense_rank(salary#8L) windowspecdefinition(salary#8L DESC NULLS LAST, specifiedwindowframe(RowFrame, unboundedpreceding$(), currentrow$())) AS dense_rank#73], [salary#8L DESC NULLS LAST]\n",
      "   +- Sort [salary#8L DESC NULLS LAST], false, 0\n",
      "      +- Exchange SinglePartition, ENSURE_REQUIREMENTS, [plan_id=146]\n",
      "         +- Project [_1#0 AS employee_name#6, _2#1 AS department#7, _3#2L AS salary#8L]\n",
      "            +- Scan ExistingRDD[_1#0,_2#1,_3#2L]\n",
      "\n",
      "\n",
      "+-------------+-----------+------+----+----------+----------+\n",
      "|employee_name| department|salary|rank|row_number|dense_rank|\n",
      "+-------------+-----------+------+----+----------+----------+\n",
      "|         John|ServiceDesk|  4600|   1|         1|         1|\n",
      "|      Michael|      Sales|  4600|   1|         2|         1|\n",
      "|       Robert|      Sales|  4100|   3|         3|         2|\n",
      "|         Saif|      Sales|  4100|   3|         4|         2|\n",
      "|          Jen|    Finance|  3900|   5|         5|         3|\n",
      "|        Scott|    Finance|  3300|   6|         6|         4|\n",
      "|        James|      Sales|  3000|   7|         7|         5|\n",
      "|        Maria|    Finance|  3000|   7|         8|         5|\n",
      "|        James|      Sales|  3000|   7|         9|         5|\n",
      "|         Jeff|  Marketing|  3000|   7|        10|         5|\n",
      "|        Kumar|  Marketing|  2000|  11|        11|         6|\n",
      "+-------------+-----------+------+----+----------+----------+\n",
      "\n"
     ]
    }
   ],
   "source": [
    "# Window functions in Spark DSL\n",
    "\n",
    "# windowSpec = Window.partitionBy(\"department\").orderBy(F.col(\"salary\").desc())\n",
    "\n",
    "windowSpec = Window.orderBy(F.col(\"salary\").desc())\n",
    "result_with_rank_df = employeeDF.\\\n",
    "    withColumn(\"rank\", F.rank().over(windowSpec)).\\\n",
    "    withColumn(\"row_number\", F.row_number().over(windowSpec)).\\\n",
    "    withColumn(\"dense_rank\", F.dense_rank().over(windowSpec))\n",
    "result_with_rank_df.explain()\n",
    "result_with_rank_df.show()"
   ]
  },
  {
   "cell_type": "code",
   "execution_count": 5,
   "id": "92e7dc90-f21e-4492-bf26-d265b76da3da",
   "metadata": {},
   "outputs": [
    {
     "name": "stdout",
     "output_type": "stream",
     "text": [
      "+-------------+-----------+------+---+\n",
      "|employee_name| department|salary|cnt|\n",
      "+-------------+-----------+------+---+\n",
      "|        James|      Sales|  3000| 11|\n",
      "|         John|ServiceDesk|  4600| 11|\n",
      "|      Michael|      Sales|  4600| 11|\n",
      "|       Robert|      Sales|  4100| 11|\n",
      "|        Maria|    Finance|  3000| 11|\n",
      "|        James|      Sales|  3000| 11|\n",
      "|        Scott|    Finance|  3300| 11|\n",
      "|          Jen|    Finance|  3900| 11|\n",
      "|         Jeff|  Marketing|  3000| 11|\n",
      "|        Kumar|  Marketing|  2000| 11|\n",
      "|         Saif|      Sales|  4100| 11|\n",
      "+-------------+-----------+------+---+\n",
      "\n",
      "== Physical Plan ==\n",
      "AdaptiveSparkPlan isFinalPlan=false\n",
      "+- Window [count(1) windowspecdefinition(specifiedwindowframe(RowFrame, unboundedpreceding$(), unboundedfollowing$())) AS cnt#111L]\n",
      "   +- Exchange SinglePartition, ENSURE_REQUIREMENTS, [plan_id=278]\n",
      "      +- Project [_1#0 AS employee_name#6, _2#1 AS department#7, _3#2L AS salary#8L]\n",
      "         +- Scan ExistingRDD[_1#0,_2#1,_3#2L]\n",
      "\n",
      "\n"
     ]
    }
   ],
   "source": [
    "# Single Partitions Dangerous DON'T WRITE SUCH CODE IN PROD\n",
    "result_sql_df = spark.sql(\"\"\"\n",
    "                            select \n",
    "                                employee_name, \n",
    "                                department, \n",
    "                                salary, \n",
    "                                count(*) OVER () as cnt\n",
    "                            from employee\n",
    "                            \"\"\")\n",
    "\n",
    "result_sql_df.show()\n",
    "result_sql_df.explain()"
   ]
  },
  {
   "cell_type": "code",
   "execution_count": 11,
   "id": "984de0e1-f410-4182-8607-23de64542c3a",
   "metadata": {},
   "outputs": [
    {
     "name": "stdout",
     "output_type": "stream",
     "text": [
      "+-------------+-----------+------+-----+\n",
      "|employee_name| department|salary|count|\n",
      "+-------------+-----------+------+-----+\n",
      "|        James|      Sales|  3000|   11|\n",
      "|         John|ServiceDesk|  4600|   11|\n",
      "|      Michael|      Sales|  4600|   11|\n",
      "|       Robert|      Sales|  4100|   11|\n",
      "|        Maria|    Finance|  3000|   11|\n",
      "|        James|      Sales|  3000|   11|\n",
      "|        Scott|    Finance|  3300|   11|\n",
      "|          Jen|    Finance|  3900|   11|\n",
      "|         Jeff|  Marketing|  3000|   11|\n",
      "|        Kumar|  Marketing|  2000|   11|\n",
      "|         Saif|      Sales|  4100|   11|\n",
      "+-------------+-----------+------+-----+\n",
      "\n",
      "== Physical Plan ==\n",
      "*(1) Project [_1#0 AS employee_name#6, _2#1 AS department#7, _3#2L AS salary#8L, 11 AS count#170]\n",
      "+- *(1) Scan ExistingRDD[_1#0,_2#1,_3#2L]\n",
      "\n",
      "\n"
     ]
    }
   ],
   "source": [
    "# CORRECT WAY\n",
    "\n",
    "cnt = employeeDF.count()\n",
    "result_with_count_df = employeeDF.\\\n",
    "    withColumn(\"count\", F.lit(employeeDF.count()))\n",
    "\n",
    "result_with_count_df.show()\n",
    "result_with_count_df.explain()"
   ]
  },
  {
   "cell_type": "code",
   "execution_count": 31,
   "id": "cd28d412-3a96-4ea8-879e-58d49a7f5b50",
   "metadata": {},
   "outputs": [
    {
     "name": "stdout",
     "output_type": "stream",
     "text": [
      "+-------------+-----------+------+-------+\n",
      "|employee_name| department|salary|row_num|\n",
      "+-------------+-----------+------+-------+\n",
      "|         John|ServiceDesk|  4600|      1|\n",
      "|      Michael|      Sales|  4600|      2|\n",
      "|       Robert|      Sales|  4100|      3|\n",
      "|         Saif|      Sales|  4100|      4|\n",
      "|          Jen|    Finance|  3900|      5|\n",
      "|        Scott|    Finance|  3300|      6|\n",
      "|        James|      Sales|  3000|      7|\n",
      "|        Maria|    Finance|  3000|      8|\n",
      "|        James|      Sales|  3000|      9|\n",
      "|         Jeff|  Marketing|  3000|     10|\n",
      "|        Kumar|  Marketing|  2000|     11|\n",
      "+-------------+-----------+------+-------+\n",
      "\n",
      "== Physical Plan ==\n",
      "AdaptiveSparkPlan isFinalPlan=false\n",
      "+- Window [row_number() windowspecdefinition(salary#137L DESC NULLS LAST, specifiedwindowframe(RowFrame, unboundedpreceding$(), currentrow$())) AS row_num#491], [salary#137L DESC NULLS LAST]\n",
      "   +- Sort [salary#137L DESC NULLS LAST], false, 0\n",
      "      +- Exchange SinglePartition, ENSURE_REQUIREMENTS, [id=#748]\n",
      "         +- Project [_1#129 AS employee_name#135, _2#130 AS department#136, _3#131L AS salary#137L]\n",
      "            +- Scan ExistingRDD[_1#129,_2#130,_3#131L]\n",
      "\n",
      "\n"
     ]
    }
   ],
   "source": [
    "# DON'T ADD ROW NUM becouse Single partitions\n",
    "\n",
    "single_part_df_2 = employeeDF.\\\n",
    "    withColumn(\"row_num\", F.row_number().over(windowSpec))\n",
    "single_part_df_2.show()\n",
    "single_part_df_2.explain()\n"
   ]
  },
  {
   "cell_type": "code",
   "execution_count": 12,
   "id": "bdf034da-2a5b-4c52-ab7e-34631635567c",
   "metadata": {},
   "outputs": [
    {
     "name": "stdout",
     "output_type": "stream",
     "text": [
      "CORRECT WAY\n",
      "+-------------+-----------+------+-------+\n",
      "|employee_name| department|salary|row_num|\n",
      "+-------------+-----------+------+-------+\n",
      "|        James|      Sales|  3000|      0|\n",
      "|         John|ServiceDesk|  4600|      1|\n",
      "|      Michael|      Sales|  4600|      2|\n",
      "|       Robert|      Sales|  4100|      3|\n",
      "|        Maria|    Finance|  3000|      4|\n",
      "|        James|      Sales|  3000|      5|\n",
      "|        Scott|    Finance|  3300|      6|\n",
      "|          Jen|    Finance|  3900|      7|\n",
      "|         Jeff|  Marketing|  3000|      8|\n",
      "|        Kumar|  Marketing|  2000|      9|\n",
      "|         Saif|      Sales|  4100|     10|\n",
      "+-------------+-----------+------+-------+\n",
      "\n",
      "== Physical Plan ==\n",
      "*(1) Project [_1#0 AS employee_name#6, _2#1 AS department#7, _3#2L AS salary#8L, monotonically_increasing_id() AS row_num#192L]\n",
      "+- *(1) Scan ExistingRDD[_1#0,_2#1,_3#2L]\n",
      "\n",
      "\n"
     ]
    }
   ],
   "source": [
    "# CORRECT WAY\n",
    "\n",
    "result_with_uniq_num = employeeDF.\\\n",
    "    withColumn(\"row_num\", F.monotonically_increasing_id())\n",
    "print(\"CORRECT WAY\")\n",
    "result_with_uniq_num.show()\n",
    "result_with_uniq_num.explain()\n"
   ]
  },
  {
   "cell_type": "markdown",
   "id": "aab46d16-6742-459b-b92d-a4712d99dec8",
   "metadata": {},
   "source": [
    "# UDF, UDAF user_define_functions"
   ]
  },
  {
   "cell_type": "code",
   "execution_count": 13,
   "id": "4b54e9fa-c5c2-4963-a1b7-eb4b4df94e2b",
   "metadata": {},
   "outputs": [],
   "source": [
    "# Step-1: Define and register UDF function\n",
    "lambda_is_world_war_two_year = lambda year: 1939 <= year <= 1945"
   ]
  },
  {
   "cell_type": "code",
   "execution_count": 14,
   "id": "0bd1a7c2-c05f-42f9-b3dc-d1fa41ac95e7",
   "metadata": {},
   "outputs": [],
   "source": [
    "# 1 way to init UDF\n",
    "is_world_war_two_year = udf(lambda_is_world_war_two_year)"
   ]
  },
  {
   "cell_type": "code",
   "execution_count": 15,
   "id": "36126222-3907-44d9-bbd0-56eae09f2564",
   "metadata": {},
   "outputs": [
    {
     "data": {
      "text/plain": [
       "<function __main__.<lambda>(year)>"
      ]
     },
     "execution_count": 15,
     "metadata": {},
     "output_type": "execute_result"
    }
   ],
   "source": [
    "# 2 way to init UDF\n",
    "spark.udf.register(\"isWorldWarTwoYear\", lambda_is_world_war_two_year)"
   ]
  },
  {
   "cell_type": "code",
   "execution_count": 17,
   "id": "161a0c80-bf8f-4925-872f-d0f22945140d",
   "metadata": {},
   "outputs": [
    {
     "name": "stdout",
     "output_type": "stream",
     "text": [
      "+---+---------+----+------+-----+-----+\n",
      "| Id|     Name|Year|Gender|State|Count|\n",
      "+---+---------+----+------+-----+-----+\n",
      "|  1|     Mary|1910|     F|   AK|   14|\n",
      "|  2|    Annie|1910|     F|   AK|   12|\n",
      "|  3|     Anna|1910|     F|   AK|   10|\n",
      "|  4| Margaret|1910|     F|   AK|    8|\n",
      "|  5|    Helen|1910|     F|   AK|    7|\n",
      "|  6|    Elsie|1910|     F|   AK|    6|\n",
      "|  7|     Lucy|1910|     F|   AK|    6|\n",
      "|  8|  Dorothy|1910|     F|   AK|    5|\n",
      "|  9|     Mary|1911|     F|   AK|   12|\n",
      "| 10| Margaret|1911|     F|   AK|    7|\n",
      "| 11|     Ruth|1911|     F|   AK|    7|\n",
      "| 12|    Annie|1911|     F|   AK|    6|\n",
      "| 13|Elizabeth|1911|     F|   AK|    6|\n",
      "| 14|    Helen|1911|     F|   AK|    6|\n",
      "| 15|     Mary|1912|     F|   AK|    9|\n",
      "| 16|    Elsie|1912|     F|   AK|    8|\n",
      "| 17|    Agnes|1912|     F|   AK|    7|\n",
      "| 18|     Anna|1912|     F|   AK|    7|\n",
      "| 19|    Helen|1912|     F|   AK|    7|\n",
      "| 20|   Louise|1912|     F|   AK|    7|\n",
      "+---+---------+----+------+-----+-----+\n",
      "only showing top 20 rows\n",
      "\n"
     ]
    }
   ],
   "source": [
    "stateNames = spark.read.\\\n",
    "    option(\"header\", \"true\").\\\n",
    "    option(\"inferSchema\", \"true\").\\\n",
    "    csv(\"data/statenames\")\n",
    "\n",
    "stateNames.show()"
   ]
  },
  {
   "cell_type": "code",
   "execution_count": 18,
   "id": "7dc98ae9-fb38-4ced-9bc5-34c840cd554e",
   "metadata": {},
   "outputs": [
    {
     "name": "stdout",
     "output_type": "stream",
     "text": [
      "+----+-----------------------+\n",
      "|Year|isWorldWarTwoYear(Year)|\n",
      "+----+-----------------------+\n",
      "|1962|                  false|\n",
      "|1946|                  false|\n",
      "|1988|                  false|\n",
      "|1998|                  false|\n",
      "|1926|                  false|\n",
      "|1935|                  false|\n",
      "|1937|                  false|\n",
      "|1971|                  false|\n",
      "|1919|                  false|\n",
      "|1939|                   true|\n",
      "|1954|                  false|\n",
      "|1995|                  false|\n",
      "|2011|                  false|\n",
      "|2003|                  false|\n",
      "|1948|                  false|\n",
      "|2010|                  false|\n",
      "|1953|                  false|\n",
      "|1915|                  false|\n",
      "|1979|                  false|\n",
      "|1981|                  false|\n",
      "|2014|                  false|\n",
      "|1913|                  false|\n",
      "|1918|                  false|\n",
      "|1967|                  false|\n",
      "|1944|                   true|\n",
      "|1996|                  false|\n",
      "|1952|                  false|\n",
      "|1943|                   true|\n",
      "|1960|                  false|\n",
      "|1920|                  false|\n",
      "|1912|                  false|\n",
      "|1982|                  false|\n",
      "|1991|                  false|\n",
      "|1925|                  false|\n",
      "|1994|                  false|\n",
      "|1922|                  false|\n",
      "|1989|                  false|\n",
      "|1929|                  false|\n",
      "|1970|                  false|\n",
      "|1911|                  false|\n",
      "|1978|                  false|\n",
      "|1977|                  false|\n",
      "|1914|                  false|\n",
      "|1974|                  false|\n",
      "|2012|                  false|\n",
      "|1951|                  false|\n",
      "|1949|                  false|\n",
      "|2009|                  false|\n",
      "|1931|                  false|\n",
      "|2013|                  false|\n",
      "+----+-----------------------+\n",
      "only showing top 50 rows\n",
      "\n"
     ]
    }
   ],
   "source": [
    "stateNames.\\\n",
    "    selectExpr(\"Year\", \"isWorldWarTwoYear(Year)\").\\\n",
    "    distinct().\\\n",
    "    show(50)"
   ]
  },
  {
   "cell_type": "code",
   "execution_count": 39,
   "id": "40f93401-2ada-4b0a-aae1-362e22f68ac3",
   "metadata": {},
   "outputs": [
    {
     "name": "stdout",
     "output_type": "stream",
     "text": [
      "+----+--------------+\n",
      "|Year|<lambda>(Year)|\n",
      "+----+--------------+\n",
      "|1962|         false|\n",
      "|1946|         false|\n",
      "|1988|         false|\n",
      "|1998|         false|\n",
      "|1926|         false|\n",
      "|1935|         false|\n",
      "|1937|         false|\n",
      "|1971|         false|\n",
      "|1919|         false|\n",
      "|1939|          true|\n",
      "|1954|         false|\n",
      "|1995|         false|\n",
      "|2011|         false|\n",
      "|2003|         false|\n",
      "|1948|         false|\n",
      "|2010|         false|\n",
      "|1953|         false|\n",
      "|1915|         false|\n",
      "|1979|         false|\n",
      "|1981|         false|\n",
      "|2014|         false|\n",
      "|1913|         false|\n",
      "|1918|         false|\n",
      "|1967|         false|\n",
      "|2017|         false|\n",
      "|1944|          true|\n",
      "|1996|         false|\n",
      "|1952|         false|\n",
      "|2016|         false|\n",
      "|1943|          true|\n",
      "|1960|         false|\n",
      "|1920|         false|\n",
      "|1912|         false|\n",
      "|1982|         false|\n",
      "|1991|         false|\n",
      "|1925|         false|\n",
      "|1994|         false|\n",
      "|1922|         false|\n",
      "|1989|         false|\n",
      "|1929|         false|\n",
      "|1970|         false|\n",
      "|1911|         false|\n",
      "|2015|         false|\n",
      "|1978|         false|\n",
      "|1977|         false|\n",
      "|1914|         false|\n",
      "|1974|         false|\n",
      "|2012|         false|\n",
      "|1951|         false|\n",
      "|1949|         false|\n",
      "|2009|         false|\n",
      "|1931|         false|\n",
      "|2013|         false|\n",
      "|1955|         false|\n",
      "|1980|         false|\n",
      "|1963|         false|\n",
      "|1968|         false|\n",
      "|1975|         false|\n",
      "|1921|         false|\n",
      "|2007|         false|\n",
      "|1910|         false|\n",
      "|1990|         false|\n",
      "|1930|         false|\n",
      "|2004|         false|\n",
      "|1934|         false|\n",
      "|1976|         false|\n",
      "|1932|         false|\n",
      "|1983|         false|\n",
      "|1984|         false|\n",
      "|1957|         false|\n",
      "|1917|         false|\n",
      "|1936|         false|\n",
      "|1961|         false|\n",
      "|1947|         false|\n",
      "|1986|         false|\n",
      "|1969|         false|\n",
      "|1965|         false|\n",
      "|1942|          true|\n",
      "|1973|         false|\n",
      "|1964|         false|\n",
      "|1993|         false|\n",
      "|1928|         false|\n",
      "|1966|         false|\n",
      "|2005|         false|\n",
      "|1940|          true|\n",
      "|1941|          true|\n",
      "|1959|         false|\n",
      "|1999|         false|\n",
      "|2000|         false|\n",
      "|1938|         false|\n",
      "|1933|         false|\n",
      "|1997|         false|\n",
      "|2006|         false|\n",
      "|1924|         false|\n",
      "|2001|         false|\n",
      "|1923|         false|\n",
      "|2002|         false|\n",
      "|1958|         false|\n",
      "|1987|         false|\n",
      "|1950|         false|\n",
      "|2008|         false|\n",
      "|1956|         false|\n",
      "|1927|         false|\n",
      "|1972|         false|\n",
      "|1992|         false|\n",
      "|1985|         false|\n",
      "|1916|         false|\n",
      "|1945|          true|\n",
      "|2018|         false|\n",
      "+----+--------------+\n",
      "\n"
     ]
    }
   ],
   "source": [
    "stateNames.\\\n",
    "    select(F.col(\"Year\"), is_world_war_two_year(F.col(\"Year\"))).\\\n",
    "    distinct().\\\n",
    "    show(50)"
   ]
  },
  {
   "cell_type": "code",
   "execution_count": 19,
   "id": "ee2adaf8-3570-4a43-aaf1-2890699fb504",
   "metadata": {},
   "outputs": [
    {
     "name": "stdout",
     "output_type": "stream",
     "text": [
      "+------+----+\n",
      "|  Name|Year|\n",
      "+------+----+\n",
      "|Zulema|1943|\n",
      "|Zulema|1944|\n",
      "|Zulema|1942|\n",
      "|Zulema|1945|\n",
      "|Zulema|1941|\n",
      "|Zulema|1940|\n",
      "|Zulema|1939|\n",
      "|  Zula|1941|\n",
      "|  Zula|1945|\n",
      "|  Zula|1943|\n",
      "|  Zula|1940|\n",
      "|  Zula|1939|\n",
      "|  Zula|1942|\n",
      "|  Zula|1944|\n",
      "|  Zora|1941|\n",
      "|  Zora|1943|\n",
      "|  Zora|1940|\n",
      "|  Zora|1942|\n",
      "|  Zora|1939|\n",
      "|  Zora|1945|\n",
      "|  Zora|1944|\n",
      "|Zonnie|1945|\n",
      "|  Zona|1944|\n",
      "|  Zona|1945|\n",
      "|  Zona|1941|\n",
      "|  Zona|1939|\n",
      "|  Zona|1943|\n",
      "|  Zona|1940|\n",
      "|  Zona|1942|\n",
      "|Zollie|1945|\n",
      "|Zollie|1944|\n",
      "|Zollie|1940|\n",
      "|  Zola|1939|\n",
      "|  Zola|1942|\n",
      "|  Zola|1945|\n",
      "|  Zola|1941|\n",
      "|  Zola|1943|\n",
      "|  Zola|1940|\n",
      "|  Zola|1944|\n",
      "| Zoila|1945|\n",
      "| Zoila|1939|\n",
      "| Zoila|1942|\n",
      "| Zoila|1941|\n",
      "| Zoila|1943|\n",
      "|   Zoe|1939|\n",
      "|   Zoe|1945|\n",
      "|   Zoe|1941|\n",
      "|   Zoe|1940|\n",
      "|   Zoe|1942|\n",
      "|   Zoe|1943|\n",
      "+------+----+\n",
      "only showing top 50 rows\n",
      "\n"
     ]
    }
   ],
   "source": [
    "stateNames.createOrReplaceTempView(\"stateNames\")\n",
    "\n",
    "spark.sql(\n",
    "    \"SELECT DISTINCT Name, Year FROM stateNames WHERE Year IS NOT NULL AND isWorldWarTwoYear(Year) = true ORDER BY Name DESC\").\\\n",
    "    show(50)\n"
   ]
  },
  {
   "cell_type": "code",
   "execution_count": null,
   "id": "ee7ae878-b4ee-46e3-b37c-33d68c1f8532",
   "metadata": {},
   "outputs": [],
   "source": []
  }
 ],
 "metadata": {
  "kernelspec": {
   "display_name": "Python 3 (ipykernel)",
   "language": "python",
   "name": "python3"
  },
  "language_info": {
   "codemirror_mode": {
    "name": "ipython",
    "version": 3
   },
   "file_extension": ".py",
   "mimetype": "text/x-python",
   "name": "python",
   "nbconvert_exporter": "python",
   "pygments_lexer": "ipython3",
   "version": "3.11.4"
  }
 },
 "nbformat": 4,
 "nbformat_minor": 5
}
