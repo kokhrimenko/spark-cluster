{
 "cells": [
  {
   "cell_type": "code",
   "execution_count": 1,
   "id": "7879a40d-3ea5-4596-b5f5-f5e3f9921f96",
   "metadata": {},
   "outputs": [],
   "source": [
    "from time import sleep\n",
    "\n",
    "from pyspark.sql import SparkSession\n",
    "from pyspark.sql.functions import *\n",
    "\n",
    "spark = SparkSession. \\\n",
    "    builder. \\\n",
    "    appName(\"Data Sources\"). \\\n",
    "    master(\"local\"). \\\n",
    "    config(\"spark.jars\", \"data/jars/postgresql-42.2.19.jar\"). \\\n",
    "    config(\"spark.sql.legacy.timeParserPolicy\", \"LEGACY\"). \\\n",
    "    getOrCreate()\n",
    "\n",
    "\n",
    "# config(\"spark.sql.warehouse.dir\", \"data/warehouse\"). \\\n",
    "    "
   ]
  },
  {
   "cell_type": "code",
   "execution_count": 3,
   "id": "696bb2fa-9ac6-4427-96d4-e038abb9f813",
   "metadata": {},
   "outputs": [
    {
     "name": "stdout",
     "output_type": "stream",
     "text": [
      "+------------+---------+------------+----------+----------------+--------------------+------+-------------+----------+\n",
      "|Acceleration|Cylinders|Displacement|Horsepower|Miles_per_Gallon|                Name|Origin|Weight_in_lbs|      Year|\n",
      "+------------+---------+------------+----------+----------------+--------------------+------+-------------+----------+\n",
      "|        12.0|        8|       307.0|       130|            18.0|chevrolet chevell...|   USA|         3504|      null|\n",
      "|        12.0|        8|       307.0|       130|            18.0|chevrolet chevell...|   USA|         3504|1970-01-01|\n",
      "|        11.5|        8|       350.0|       165|            15.0|   buick skylark 320|   USA|         3693|1970-01-01|\n",
      "|        11.0|        8|       318.0|       150|            18.0|  plymouth satellite|   USA|         3436|1970-01-01|\n",
      "|        12.0|        8|       304.0|       150|            16.0|       amc rebel sst|   USA|         3433|1970-01-01|\n",
      "|        10.5|        8|       302.0|       140|            17.0|         ford torino|   USA|         3449|1970-01-01|\n",
      "|        10.0|        8|       429.0|       198|            15.0|    ford galaxie 500|   USA|         4341|1970-01-01|\n",
      "|         9.0|        8|       454.0|       220|            14.0|    chevrolet impala|   USA|         4354|1970-01-01|\n",
      "|         8.5|        8|       440.0|       215|            14.0|   plymouth fury iii|   USA|         4312|1970-01-01|\n",
      "|        10.0|        8|       455.0|       225|            14.0|    pontiac catalina|   USA|         4425|1970-01-01|\n",
      "|         8.5|        8|       390.0|       190|            15.0|  amc ambassador dpl|   USA|         3850|1970-01-01|\n",
      "|        17.5|        4|       133.0|       115|            null|citroen ds-21 pallas|Europe|         3090|1970-01-01|\n",
      "|        11.5|        8|       350.0|       165|            null|chevrolet chevell...|   USA|         4142|1970-01-01|\n",
      "|        11.0|        8|       351.0|       153|            null|    ford torino (sw)|   USA|         4034|1970-01-01|\n",
      "|        10.5|        8|       383.0|       175|            null|plymouth satellit...|   USA|         4166|1970-01-01|\n",
      "|        11.0|        8|       360.0|       175|            null|  amc rebel sst (sw)|   USA|         3850|1970-01-01|\n",
      "|        10.0|        8|       383.0|       170|            15.0| dodge challenger se|   USA|         3563|1970-01-01|\n",
      "|         8.0|        8|       340.0|       160|            14.0|   plymouth cuda 340|   USA|         3609|1970-01-01|\n",
      "|         8.0|        8|       302.0|       140|            null|ford mustang boss...|   USA|         3353|1970-01-01|\n",
      "|         9.5|        8|       400.0|       150|            15.0|chevrolet monte c...|   USA|         3761|1970-01-01|\n",
      "+------------+---------+------------+----------+----------------+--------------------+------+-------------+----------+\n",
      "only showing top 20 rows\n",
      "\n",
      "+--------------------+\n",
      "|                Name|\n",
      "+--------------------+\n",
      "|toyota corona mar...|\n",
      "|        datsun pl510|\n",
      "|        datsun pl510|\n",
      "|       toyota corona|\n",
      "| toyota corolla 1200|\n",
      "|         datsun 1200|\n",
      "|toyota corona har...|\n",
      "|     mazda rx2 coupe|\n",
      "|     datsun 510 (sw)|\n",
      "|toyouta corona ma...|\n",
      "|toyota corolla 16...|\n",
      "|       toyota carina|\n",
      "|          datsun 610|\n",
      "|           maxda rx3|\n",
      "|      toyota mark ii|\n",
      "|         datsun b210|\n",
      "| toyota corolla 1200|\n",
      "|       toyota corona|\n",
      "|          datsun 710|\n",
      "|         honda civic|\n",
      "+--------------------+\n",
      "only showing top 20 rows\n",
      "\n"
     ]
    }
   ],
   "source": [
    "cars_df = spark.read.json(\"data/cars\").cache()\n",
    "cars_df.show()\n",
    "\n",
    "assert(cars_df.count() != 0)\n",
    "\n"
   ]
  },
  {
   "cell_type": "code",
   "execution_count": 7,
   "id": "f7b3de4d-bc6f-44aa-9967-1888de201ce0",
   "metadata": {},
   "outputs": [
    {
     "name": "stdout",
     "output_type": "stream",
     "text": [
      "+--------------------+\n",
      "|                Name|\n",
      "+--------------------+\n",
      "|toyota corona mar...|\n",
      "|        datsun pl510|\n",
      "|        datsun pl510|\n",
      "|       toyota corona|\n",
      "| toyota corolla 1200|\n",
      "|         datsun 1200|\n",
      "|toyota corona har...|\n",
      "|     mazda rx2 coupe|\n",
      "|     datsun 510 (sw)|\n",
      "|toyouta corona ma...|\n",
      "|toyota corolla 16...|\n",
      "|       toyota carina|\n",
      "|          datsun 610|\n",
      "|           maxda rx3|\n",
      "|      toyota mark ii|\n",
      "|         datsun b210|\n",
      "| toyota corolla 1200|\n",
      "|       toyota corona|\n",
      "|          datsun 710|\n",
      "|         honda civic|\n",
      "+--------------------+\n",
      "only showing top 20 rows\n",
      "\n"
     ]
    }
   ],
   "source": [
    "# Spark DSL \n",
    "american_cars_df = cars_df.\\\n",
    "    filter(col(\"Origin\") == \"Japan\").\\\n",
    "    select(col(\"Name\"))\n",
    "\n",
    "american_cars_df.show()"
   ]
  },
  {
   "cell_type": "code",
   "execution_count": 5,
   "id": "131f2eb6-f9c6-4b5b-b81f-82d8df61061f",
   "metadata": {},
   "outputs": [
    {
     "name": "stdout",
     "output_type": "stream",
     "text": [
      "DataFrame => SQL metastore = EXTERNAL TABLE\n"
     ]
    }
   ],
   "source": [
    "# store as a Spark table dont write data to storage EXTERNAL TABLE\n",
    "#  DataFrame => SQL metastore\n",
    "print(\"DataFrame => SQL metastore = EXTERNAL TABLE\")\n",
    "cars_df.createOrReplaceTempView(\"cars\")"
   ]
  },
  {
   "cell_type": "code",
   "execution_count": 6,
   "id": "0085418a-83af-49a9-8923-e6f66bd068a1",
   "metadata": {},
   "outputs": [
    {
     "name": "stdout",
     "output_type": "stream",
     "text": [
      "+--------------------+\n",
      "|                Name|\n",
      "+--------------------+\n",
      "|toyota corona mar...|\n",
      "|        datsun pl510|\n",
      "|        datsun pl510|\n",
      "|       toyota corona|\n",
      "| toyota corolla 1200|\n",
      "|         datsun 1200|\n",
      "|toyota corona har...|\n",
      "|     mazda rx2 coupe|\n",
      "|     datsun 510 (sw)|\n",
      "|toyouta corona ma...|\n",
      "|toyota corolla 16...|\n",
      "|       toyota carina|\n",
      "|          datsun 610|\n",
      "|           maxda rx3|\n",
      "|      toyota mark ii|\n",
      "|         datsun b210|\n",
      "| toyota corolla 1200|\n",
      "|       toyota corona|\n",
      "|          datsun 710|\n",
      "|         honda civic|\n",
      "+--------------------+\n",
      "only showing top 20 rows\n",
      "\n"
     ]
    }
   ],
   "source": [
    "# Spark SQL != Spark DSL\n",
    "# run SQL queries on top of DFs known to Spark under a certain name\n",
    "american_cars_df_v2 = spark.sql(\"SELECT Name FROM cars WHERE Origin = 'Japan'\")\n",
    "american_cars_df_v2.show()"
   ]
  },
  {
   "cell_type": "code",
   "execution_count": 8,
   "id": "75d8dd6c-2164-4aad-8437-601bd037c8c4",
   "metadata": {},
   "outputs": [
    {
     "name": "stdout",
     "output_type": "stream",
     "text": [
      "DROPPING EXTERNAL TABLE\n"
     ]
    },
    {
     "ename": "AnalysisException",
     "evalue": "Table or view not found: cars; line 1 pos 17;\n'Project ['Name]\n+- 'Filter ('Origin = Japan)\n   +- 'UnresolvedRelation [cars], [], false\n",
     "output_type": "error",
     "traceback": [
      "\u001b[0;31m---------------------------------------------------------------------------\u001b[0m",
      "\u001b[0;31mAnalysisException\u001b[0m                         Traceback (most recent call last)",
      "Input \u001b[0;32mIn [8]\u001b[0m, in \u001b[0;36m<cell line: 4>\u001b[0;34m()\u001b[0m\n\u001b[1;32m      2\u001b[0m \u001b[38;5;28mprint\u001b[39m(\u001b[38;5;124m\"\u001b[39m\u001b[38;5;124mDROPPING EXTERNAL TABLE\u001b[39m\u001b[38;5;124m\"\u001b[39m)\n\u001b[1;32m      3\u001b[0m spark\u001b[38;5;241m.\u001b[39msql(\u001b[38;5;124m\"\u001b[39m\u001b[38;5;124mDROP TABLE cars\u001b[39m\u001b[38;5;124m\"\u001b[39m)\n\u001b[0;32m----> 4\u001b[0m \u001b[43mspark\u001b[49m\u001b[38;5;241;43m.\u001b[39;49m\u001b[43msql\u001b[49m\u001b[43m(\u001b[49m\u001b[38;5;124;43m\"\u001b[39;49m\u001b[38;5;124;43mSELECT Name FROM cars WHERE Origin = \u001b[39;49m\u001b[38;5;124;43m'\u001b[39;49m\u001b[38;5;124;43mJapan\u001b[39;49m\u001b[38;5;124;43m'\u001b[39;49m\u001b[38;5;124;43m\"\u001b[39;49m\u001b[43m)\u001b[49m\n",
      "File \u001b[0;32m/usr/local/spark/python/pyspark/sql/session.py:723\u001b[0m, in \u001b[0;36mSparkSession.sql\u001b[0;34m(self, sqlQuery)\u001b[0m\n\u001b[1;32m    707\u001b[0m \u001b[38;5;28;01mdef\u001b[39;00m \u001b[38;5;21msql\u001b[39m(\u001b[38;5;28mself\u001b[39m, sqlQuery):\n\u001b[1;32m    708\u001b[0m     \u001b[38;5;124;03m\"\"\"Returns a :class:`DataFrame` representing the result of the given query.\u001b[39;00m\n\u001b[1;32m    709\u001b[0m \n\u001b[1;32m    710\u001b[0m \u001b[38;5;124;03m    .. versionadded:: 2.0.0\u001b[39;00m\n\u001b[0;32m   (...)\u001b[0m\n\u001b[1;32m    721\u001b[0m \u001b[38;5;124;03m    [Row(f1=1, f2='row1'), Row(f1=2, f2='row2'), Row(f1=3, f2='row3')]\u001b[39;00m\n\u001b[1;32m    722\u001b[0m \u001b[38;5;124;03m    \"\"\"\u001b[39;00m\n\u001b[0;32m--> 723\u001b[0m     \u001b[38;5;28;01mreturn\u001b[39;00m DataFrame(\u001b[38;5;28;43mself\u001b[39;49m\u001b[38;5;241;43m.\u001b[39;49m\u001b[43m_jsparkSession\u001b[49m\u001b[38;5;241;43m.\u001b[39;49m\u001b[43msql\u001b[49m\u001b[43m(\u001b[49m\u001b[43msqlQuery\u001b[49m\u001b[43m)\u001b[49m, \u001b[38;5;28mself\u001b[39m\u001b[38;5;241m.\u001b[39m_wrapped)\n",
      "File \u001b[0;32m/usr/local/spark/python/lib/py4j-0.10.9.3-src.zip/py4j/java_gateway.py:1321\u001b[0m, in \u001b[0;36mJavaMember.__call__\u001b[0;34m(self, *args)\u001b[0m\n\u001b[1;32m   1315\u001b[0m command \u001b[38;5;241m=\u001b[39m proto\u001b[38;5;241m.\u001b[39mCALL_COMMAND_NAME \u001b[38;5;241m+\u001b[39m\\\n\u001b[1;32m   1316\u001b[0m     \u001b[38;5;28mself\u001b[39m\u001b[38;5;241m.\u001b[39mcommand_header \u001b[38;5;241m+\u001b[39m\\\n\u001b[1;32m   1317\u001b[0m     args_command \u001b[38;5;241m+\u001b[39m\\\n\u001b[1;32m   1318\u001b[0m     proto\u001b[38;5;241m.\u001b[39mEND_COMMAND_PART\n\u001b[1;32m   1320\u001b[0m answer \u001b[38;5;241m=\u001b[39m \u001b[38;5;28mself\u001b[39m\u001b[38;5;241m.\u001b[39mgateway_client\u001b[38;5;241m.\u001b[39msend_command(command)\n\u001b[0;32m-> 1321\u001b[0m return_value \u001b[38;5;241m=\u001b[39m \u001b[43mget_return_value\u001b[49m\u001b[43m(\u001b[49m\n\u001b[1;32m   1322\u001b[0m \u001b[43m    \u001b[49m\u001b[43manswer\u001b[49m\u001b[43m,\u001b[49m\u001b[43m \u001b[49m\u001b[38;5;28;43mself\u001b[39;49m\u001b[38;5;241;43m.\u001b[39;49m\u001b[43mgateway_client\u001b[49m\u001b[43m,\u001b[49m\u001b[43m \u001b[49m\u001b[38;5;28;43mself\u001b[39;49m\u001b[38;5;241;43m.\u001b[39;49m\u001b[43mtarget_id\u001b[49m\u001b[43m,\u001b[49m\u001b[43m \u001b[49m\u001b[38;5;28;43mself\u001b[39;49m\u001b[38;5;241;43m.\u001b[39;49m\u001b[43mname\u001b[49m\u001b[43m)\u001b[49m\n\u001b[1;32m   1324\u001b[0m \u001b[38;5;28;01mfor\u001b[39;00m temp_arg \u001b[38;5;129;01min\u001b[39;00m temp_args:\n\u001b[1;32m   1325\u001b[0m     temp_arg\u001b[38;5;241m.\u001b[39m_detach()\n",
      "File \u001b[0;32m/usr/local/spark/python/pyspark/sql/utils.py:117\u001b[0m, in \u001b[0;36mcapture_sql_exception.<locals>.deco\u001b[0;34m(*a, **kw)\u001b[0m\n\u001b[1;32m    113\u001b[0m converted \u001b[38;5;241m=\u001b[39m convert_exception(e\u001b[38;5;241m.\u001b[39mjava_exception)\n\u001b[1;32m    114\u001b[0m \u001b[38;5;28;01mif\u001b[39;00m \u001b[38;5;129;01mnot\u001b[39;00m \u001b[38;5;28misinstance\u001b[39m(converted, UnknownException):\n\u001b[1;32m    115\u001b[0m     \u001b[38;5;66;03m# Hide where the exception came from that shows a non-Pythonic\u001b[39;00m\n\u001b[1;32m    116\u001b[0m     \u001b[38;5;66;03m# JVM exception message.\u001b[39;00m\n\u001b[0;32m--> 117\u001b[0m     \u001b[38;5;28;01mraise\u001b[39;00m converted \u001b[38;5;28;01mfrom\u001b[39;00m \u001b[38;5;28mNone\u001b[39m\n\u001b[1;32m    118\u001b[0m \u001b[38;5;28;01melse\u001b[39;00m:\n\u001b[1;32m    119\u001b[0m     \u001b[38;5;28;01mraise\u001b[39;00m\n",
      "\u001b[0;31mAnalysisException\u001b[0m: Table or view not found: cars; line 1 pos 17;\n'Project ['Name]\n+- 'Filter ('Origin = Japan)\n   +- 'UnresolvedRelation [cars], [], false\n"
     ]
    }
   ],
   "source": [
    "# DROPPING EXTERNAL TABLE DOES NOT DELETE DATA, ONLY IN METASTORE\n",
    "print(\"DROPPING EXTERNAL TABLE\")\n",
    "spark.sql(\"DROP TABLE cars\")\n",
    "spark.sql(\"SELECT Name FROM cars WHERE Origin = 'Japan'\")\n"
   ]
  },
  {
   "cell_type": "code",
   "execution_count": 9,
   "id": "b470c4f3-bba4-4a25-be2a-79daabbc0107",
   "metadata": {},
   "outputs": [
    {
     "name": "stdout",
     "output_type": "stream",
     "text": [
      "+--------------------+\n",
      "|                Name|\n",
      "+--------------------+\n",
      "|toyota corona mar...|\n",
      "|        datsun pl510|\n",
      "|        datsun pl510|\n",
      "|       toyota corona|\n",
      "| toyota corolla 1200|\n",
      "|         datsun 1200|\n",
      "|toyota corona har...|\n",
      "|     mazda rx2 coupe|\n",
      "|     datsun 510 (sw)|\n",
      "|toyouta corona ma...|\n",
      "|toyota corolla 16...|\n",
      "|       toyota carina|\n",
      "|          datsun 610|\n",
      "|           maxda rx3|\n",
      "|      toyota mark ii|\n",
      "|         datsun b210|\n",
      "| toyota corolla 1200|\n",
      "|       toyota corona|\n",
      "|          datsun 710|\n",
      "|         honda civic|\n",
      "+--------------------+\n",
      "only showing top 20 rows\n",
      "\n",
      "+------------+---------+------------+----------+----------------+--------------------+------+-------------+----------+\n",
      "|Acceleration|Cylinders|Displacement|Horsepower|Miles_per_Gallon|                Name|Origin|Weight_in_lbs|      Year|\n",
      "+------------+---------+------------+----------+----------------+--------------------+------+-------------+----------+\n",
      "|        12.0|        8|       307.0|       130|            18.0|chevrolet chevell...|   USA|         3504|      null|\n",
      "|        12.0|        8|       307.0|       130|            18.0|chevrolet chevell...|   USA|         3504|1970-01-01|\n",
      "|        11.5|        8|       350.0|       165|            15.0|   buick skylark 320|   USA|         3693|1970-01-01|\n",
      "|        11.0|        8|       318.0|       150|            18.0|  plymouth satellite|   USA|         3436|1970-01-01|\n",
      "|        12.0|        8|       304.0|       150|            16.0|       amc rebel sst|   USA|         3433|1970-01-01|\n",
      "|        10.5|        8|       302.0|       140|            17.0|         ford torino|   USA|         3449|1970-01-01|\n",
      "|        10.0|        8|       429.0|       198|            15.0|    ford galaxie 500|   USA|         4341|1970-01-01|\n",
      "|         9.0|        8|       454.0|       220|            14.0|    chevrolet impala|   USA|         4354|1970-01-01|\n",
      "|         8.5|        8|       440.0|       215|            14.0|   plymouth fury iii|   USA|         4312|1970-01-01|\n",
      "|        10.0|        8|       455.0|       225|            14.0|    pontiac catalina|   USA|         4425|1970-01-01|\n",
      "|         8.5|        8|       390.0|       190|            15.0|  amc ambassador dpl|   USA|         3850|1970-01-01|\n",
      "|        17.5|        4|       133.0|       115|            null|citroen ds-21 pallas|Europe|         3090|1970-01-01|\n",
      "|        11.5|        8|       350.0|       165|            null|chevrolet chevell...|   USA|         4142|1970-01-01|\n",
      "|        11.0|        8|       351.0|       153|            null|    ford torino (sw)|   USA|         4034|1970-01-01|\n",
      "|        10.5|        8|       383.0|       175|            null|plymouth satellit...|   USA|         4166|1970-01-01|\n",
      "|        11.0|        8|       360.0|       175|            null|  amc rebel sst (sw)|   USA|         3850|1970-01-01|\n",
      "|        10.0|        8|       383.0|       170|            15.0| dodge challenger se|   USA|         3563|1970-01-01|\n",
      "|         8.0|        8|       340.0|       160|            14.0|   plymouth cuda 340|   USA|         3609|1970-01-01|\n",
      "|         8.0|        8|       302.0|       140|            null|ford mustang boss...|   USA|         3353|1970-01-01|\n",
      "|         9.5|        8|       400.0|       150|            15.0|chevrolet monte c...|   USA|         3761|1970-01-01|\n",
      "+------------+---------+------------+----------+----------------+--------------------+------+-------------+----------+\n",
      "only showing top 20 rows\n",
      "\n"
     ]
    }
   ],
   "source": [
    "# We still can work with source DF and read data again\n",
    "american_cars_df.show()\n",
    "cars_df_again = spark.read.json(\"data/cars\")\n",
    "cars_df_again.show()"
   ]
  },
  {
   "cell_type": "code",
   "execution_count": 10,
   "id": "5b144541-341b-4dec-8ca6-91a08f4e6f1d",
   "metadata": {},
   "outputs": [
    {
     "name": "stdout",
     "output_type": "stream",
     "text": [
      "SAVING TO MANAGED TABLE\n"
     ]
    }
   ],
   "source": [
    "# store DFs as Spark tables (files known to Spark) to Spark storage HDFS\n",
    "#  DataFrame => SQL metastore + Spark storage\n",
    "print(\"SAVING TO MANAGED TABLE\")\n",
    "cars_df.\\\n",
    "    write.\\\n",
    "    mode(\"overwrite\").\\\n",
    "    saveAsTable(\"cars_managed_table\")\n",
    "\n",
    "# saveAsTable != save() or orc(...), parquet(....) \n",
    "# parquet(\"data/parquet\"). \\\n",
    "#     save()"
   ]
  },
  {
   "cell_type": "code",
   "execution_count": 11,
   "id": "8c541eb9-407e-4bf2-8f55-7877183d4dfd",
   "metadata": {},
   "outputs": [
    {
     "name": "stdout",
     "output_type": "stream",
     "text": [
      "READ FROM MANAGED STORAGE 1\n",
      "+------------+---------+------------+----------+----------------+--------------------+------+-------------+----------+\n",
      "|Acceleration|Cylinders|Displacement|Horsepower|Miles_per_Gallon|                Name|Origin|Weight_in_lbs|      Year|\n",
      "+------------+---------+------------+----------+----------------+--------------------+------+-------------+----------+\n",
      "|        12.0|        8|       307.0|       130|            18.0|chevrolet chevell...|   USA|         3504|      null|\n",
      "|        12.0|        8|       307.0|       130|            18.0|chevrolet chevell...|   USA|         3504|1970-01-01|\n",
      "|        11.5|        8|       350.0|       165|            15.0|   buick skylark 320|   USA|         3693|1970-01-01|\n",
      "|        11.0|        8|       318.0|       150|            18.0|  plymouth satellite|   USA|         3436|1970-01-01|\n",
      "|        12.0|        8|       304.0|       150|            16.0|       amc rebel sst|   USA|         3433|1970-01-01|\n",
      "|        10.5|        8|       302.0|       140|            17.0|         ford torino|   USA|         3449|1970-01-01|\n",
      "|        10.0|        8|       429.0|       198|            15.0|    ford galaxie 500|   USA|         4341|1970-01-01|\n",
      "|         9.0|        8|       454.0|       220|            14.0|    chevrolet impala|   USA|         4354|1970-01-01|\n",
      "|         8.5|        8|       440.0|       215|            14.0|   plymouth fury iii|   USA|         4312|1970-01-01|\n",
      "|        10.0|        8|       455.0|       225|            14.0|    pontiac catalina|   USA|         4425|1970-01-01|\n",
      "|         8.5|        8|       390.0|       190|            15.0|  amc ambassador dpl|   USA|         3850|1970-01-01|\n",
      "|        17.5|        4|       133.0|       115|            null|citroen ds-21 pallas|Europe|         3090|1970-01-01|\n",
      "|        11.5|        8|       350.0|       165|            null|chevrolet chevell...|   USA|         4142|1970-01-01|\n",
      "|        11.0|        8|       351.0|       153|            null|    ford torino (sw)|   USA|         4034|1970-01-01|\n",
      "|        10.5|        8|       383.0|       175|            null|plymouth satellit...|   USA|         4166|1970-01-01|\n",
      "|        11.0|        8|       360.0|       175|            null|  amc rebel sst (sw)|   USA|         3850|1970-01-01|\n",
      "|        10.0|        8|       383.0|       170|            15.0| dodge challenger se|   USA|         3563|1970-01-01|\n",
      "|         8.0|        8|       340.0|       160|            14.0|   plymouth cuda 340|   USA|         3609|1970-01-01|\n",
      "|         8.0|        8|       302.0|       140|            null|ford mustang boss...|   USA|         3353|1970-01-01|\n",
      "|         9.5|        8|       400.0|       150|            15.0|chevrolet monte c...|   USA|         3761|1970-01-01|\n",
      "+------------+---------+------------+----------+----------------+--------------------+------+-------------+----------+\n",
      "only showing top 20 rows\n",
      "\n"
     ]
    }
   ],
   "source": [
    "print(\"READ FROM MANAGED STORAGE 1\")\n",
    "assert(cars_df.count() != 0)\n",
    "american_cars_df_v2 = spark.sql(\"SELECT * FROM cars_managed_table\")\n",
    "assert(american_cars_df_v2.count() != 0)\n",
    "american_cars_df_v2.show()\n"
   ]
  },
  {
   "cell_type": "code",
   "execution_count": 12,
   "id": "b7eed6af-8214-46f2-9f59-a3529253fae2",
   "metadata": {},
   "outputs": [
    {
     "name": "stdout",
     "output_type": "stream",
     "text": [
      "READ FROM MANAGED STORAGE 2\n",
      "+------------+---------+------------+----------+----------------+--------------------+------+-------------+----------+\n",
      "|Acceleration|Cylinders|Displacement|Horsepower|Miles_per_Gallon|                Name|Origin|Weight_in_lbs|      Year|\n",
      "+------------+---------+------------+----------+----------------+--------------------+------+-------------+----------+\n",
      "|        12.0|        8|       307.0|       130|            18.0|chevrolet chevell...|   USA|         3504|      null|\n",
      "|        12.0|        8|       307.0|       130|            18.0|chevrolet chevell...|   USA|         3504|1970-01-01|\n",
      "|        11.5|        8|       350.0|       165|            15.0|   buick skylark 320|   USA|         3693|1970-01-01|\n",
      "|        11.0|        8|       318.0|       150|            18.0|  plymouth satellite|   USA|         3436|1970-01-01|\n",
      "|        12.0|        8|       304.0|       150|            16.0|       amc rebel sst|   USA|         3433|1970-01-01|\n",
      "|        10.5|        8|       302.0|       140|            17.0|         ford torino|   USA|         3449|1970-01-01|\n",
      "|        10.0|        8|       429.0|       198|            15.0|    ford galaxie 500|   USA|         4341|1970-01-01|\n",
      "|         9.0|        8|       454.0|       220|            14.0|    chevrolet impala|   USA|         4354|1970-01-01|\n",
      "|         8.5|        8|       440.0|       215|            14.0|   plymouth fury iii|   USA|         4312|1970-01-01|\n",
      "|        10.0|        8|       455.0|       225|            14.0|    pontiac catalina|   USA|         4425|1970-01-01|\n",
      "|         8.5|        8|       390.0|       190|            15.0|  amc ambassador dpl|   USA|         3850|1970-01-01|\n",
      "|        17.5|        4|       133.0|       115|            null|citroen ds-21 pallas|Europe|         3090|1970-01-01|\n",
      "|        11.5|        8|       350.0|       165|            null|chevrolet chevell...|   USA|         4142|1970-01-01|\n",
      "|        11.0|        8|       351.0|       153|            null|    ford torino (sw)|   USA|         4034|1970-01-01|\n",
      "|        10.5|        8|       383.0|       175|            null|plymouth satellit...|   USA|         4166|1970-01-01|\n",
      "|        11.0|        8|       360.0|       175|            null|  amc rebel sst (sw)|   USA|         3850|1970-01-01|\n",
      "|        10.0|        8|       383.0|       170|            15.0| dodge challenger se|   USA|         3563|1970-01-01|\n",
      "|         8.0|        8|       340.0|       160|            14.0|   plymouth cuda 340|   USA|         3609|1970-01-01|\n",
      "|         8.0|        8|       302.0|       140|            null|ford mustang boss...|   USA|         3353|1970-01-01|\n",
      "|         9.5|        8|       400.0|       150|            15.0|chevrolet monte c...|   USA|         3761|1970-01-01|\n",
      "+------------+---------+------------+----------+----------------+--------------------+------+-------------+----------+\n",
      "only showing top 20 rows\n",
      "\n"
     ]
    }
   ],
   "source": [
    "print(\"READ FROM MANAGED STORAGE 2\")\n",
    "cars_managed_df = spark.table(\"cars_managed_table\")\n",
    "# spark.table == spark.read.table\n",
    "# cars_managed_df = spark.read.table(\"cars_managed_table\")\n",
    "assert (cars_managed_df.count() != 0)\n",
    "cars_managed_df.show()\n"
   ]
  },
  {
   "cell_type": "code",
   "execution_count": 13,
   "id": "234b702b-a0b5-4c78-b5b8-51fa03e66191",
   "metadata": {},
   "outputs": [
    {
     "name": "stdout",
     "output_type": "stream",
     "text": [
      "DROPPING MANGED TABLE\n"
     ]
    },
    {
     "data": {
      "text/plain": [
       "DataFrame[]"
      ]
     },
     "execution_count": 13,
     "metadata": {},
     "output_type": "execute_result"
    }
   ],
   "source": [
    "# DROPPING MANGED TABLE Delete data from store\n",
    "print(\"DROPPING MANGED TABLE\")\n",
    "spark.sql(\"DROP TABLE cars_managed_table\")"
   ]
  },
  {
   "cell_type": "code",
   "execution_count": 14,
   "id": "ac4c37ad-2900-48e3-adbb-027ef861df3c",
   "metadata": {},
   "outputs": [
    {
     "name": "stdout",
     "output_type": "stream",
     "text": [
      "DDL DML INSIDE TABLE\n",
      "DDL_DEMO_DF TABLE\n",
      "+-------------+--------------------+----------+\n",
      "|         name|             address|student_id|\n",
      "+-------------+--------------------+----------+\n",
      "|Cathy Johnson|789 Race Ave, Pal...|    333333|\n",
      "|    Bob Brown|456 Taylor St, Cu...|    222222|\n",
      "+-------------+--------------------+----------+\n",
      "\n"
     ]
    }
   ],
   "source": [
    "# We can create and insert data inside Spark SQL\n",
    "print(\"DDL DML INSIDE TABLE\")\n",
    "spark.sql(\"CREATE SCHEMA test\")\n",
    "\n",
    "spark.sql(\"CREATE TABLE test.students (name VARCHAR(64), address VARCHAR(64)) USING PARQUET PARTITIONED BY (student_id INT)\")\n",
    "\n",
    "spark.sql(\"INSERT INTO test.students VALUES('Bob Brown', '456 Taylor St, Cupertino', 222222),('Cathy Johnson', '789 Race Ave, Palo Alto', 333333)\")\n",
    "\n",
    "ddl_demo_df = spark.sql(\"SELECT * FROM test.students\")\n",
    "print(\"DDL_DEMO_DF TABLE\")\n",
    "assert (ddl_demo_df.count() != 0)\n",
    "ddl_demo_df.show()\n"
   ]
  },
  {
   "cell_type": "code",
   "execution_count": 15,
   "id": "03b5c2c0-9367-4f9f-9293-3de77420db77",
   "metadata": {},
   "outputs": [
    {
     "name": "stdout",
     "output_type": "stream",
     "text": [
      "DROPPING MANGED TABLE\n"
     ]
    },
    {
     "data": {
      "text/plain": [
       "DataFrame[]"
      ]
     },
     "execution_count": 15,
     "metadata": {},
     "output_type": "execute_result"
    }
   ],
   "source": [
    "print(\"DROPPING MANGED TABLE\")\n",
    "spark.sql(\"DROP TABLE test.students\")\n",
    "\n",
    " # https://spark.apache.org/docs/latest/sql-ref-syntax-dml-insert-into.html"
   ]
  },
  {
   "cell_type": "code",
   "execution_count": null,
   "id": "0f4e4e9b-99c5-4caa-839d-a4ffa7580b22",
   "metadata": {},
   "outputs": [],
   "source": []
  },
  {
   "cell_type": "markdown",
   "id": "dd2786d4-7c42-4f28-b830-23f99e338dc8",
   "metadata": {},
   "source": [
    "Exersices:\n",
    "\n",
    "1. show all employees and their max salary over time\n",
    "\n",
    "2. show all employees who were never managers\n",
    "\n",
    "3. for every employee, find the difference between their salary (current/latest) and the max salary of their department (departments table) (HARD)\n"
   ]
  },
  {
   "cell_type": "code",
   "execution_count": null,
   "id": "cc6df03e-56c0-4f16-923d-647471173767",
   "metadata": {},
   "outputs": [],
   "source": [
    "# DOR THIS FROM PYCHARM PROJECT\n",
    "\n",
    "driver = \"org.postgresql.Driver\"\n",
    "url = \"jdbc:postgresql://localhost:5432/spark\"\n",
    "user = \"docker\"\n",
    "password = \"docker\"\n",
    "\n",
    "\n",
    "def read_table(table_name):\n",
    "    return spark.read. \\\n",
    "        format(\"jdbc\"). \\\n",
    "        option(\"driver\", driver). \\\n",
    "        option(\"url\", url). \\\n",
    "        option(\"user\", user). \\\n",
    "        option(\"password\", password). \\\n",
    "        option(\"dbtable\", \"public.\" + table_name). \\\n",
    "        load()\n",
    "\n",
    "employees_df = read_table(\"employees\")\n",
    "salaries_df = read_table(\"salaries\")\n",
    "dept_managers_df = read_table(\"dept_manager\")\n",
    "dept_emp_df = read_table(\"dept_emp\")\n",
    "departments_df = read_table(\"departments\")\n",
    "\n",
    "# save table names\n",
    "employees_df.createOrReplaceTempView(\"employees\")\n",
    "salaries_df.createOrReplaceTempView(\"salaries\")\n",
    "dept_managers_df.createOrReplaceTempView(\"dept_manager\")\n",
    "dept_emp_df.createOrReplaceTempView(\"dept_emp\")\n",
    "departments_df.createOrReplaceTempView(\"departments\")\n"
   ]
  }
 ],
 "metadata": {
  "kernelspec": {
   "display_name": "Python 3 (ipykernel)",
   "language": "python",
   "name": "python3"
  },
  "language_info": {
   "codemirror_mode": {
    "name": "ipython",
    "version": 3
   },
   "file_extension": ".py",
   "mimetype": "text/x-python",
   "name": "python",
   "nbconvert_exporter": "python",
   "pygments_lexer": "ipython3",
   "version": "3.9.10"
  }
 },
 "nbformat": 4,
 "nbformat_minor": 5
}
