{
 "cells": [
  {
   "cell_type": "code",
   "execution_count": 2,
   "id": "f91a7af4-ee51-4133-b2e4-801c2f59ebcb",
   "metadata": {},
   "outputs": [],
   "source": [
    "from time import sleep\n",
    "\n",
    "from pyspark.sql import SparkSession\n",
    "from pyspark.sql.functions import *\n",
    "from pyspark.sql import functions as F\n",
    "\n",
    "import findspark\n",
    "findspark.init()\n",
    "\n",
    "spark = SparkSession. \\\n",
    "    builder. \\\n",
    "    appName(\"Joins\"). \\\n",
    "    master(\"local\"). \\\n",
    "    config(\"spark.jars\", \"jars/postgresql-42.2.19.jar\"). \\\n",
    "    getOrCreate()\n"
   ]
  },
  {
   "cell_type": "code",
   "execution_count": 3,
   "id": "45c60be9-f708-4e10-8f08-bd123cf13cfb",
   "metadata": {},
   "outputs": [],
   "source": [
    "movies_df = spark.read.json(\"data/movies\")\n",
    "assert(movies_df.count() != 0)"
   ]
  },
  {
   "cell_type": "markdown",
   "id": "0f595abb-822e-4e03-84a8-e589f4565e2f",
   "metadata": {},
   "source": [
    "# Filters"
   ]
  },
  {
   "cell_type": "code",
   "execution_count": 4,
   "id": "c169d127-ea7a-4b30-b77a-bc9f97a70f24",
   "metadata": {},
   "outputs": [
    {
     "name": "stdout",
     "output_type": "stream",
     "text": [
      "+--------------------------+---+\n",
      "|Title                     |MOL|\n",
      "+--------------------------+---+\n",
      "|The Land Girls            |42 |\n",
      "|First Love, Last Rites    |42 |\n",
      "|I Married a Strange Person|42 |\n",
      "|Let's Talk About Sex      |42 |\n",
      "|Slam                      |42 |\n",
      "+--------------------------+---+\n",
      "only showing top 5 rows\n",
      "\n"
     ]
    }
   ],
   "source": [
    "# demo_literal_values\n",
    "\n",
    "meaning_of_life_df = movies_df.select(col(\"Title\"), lit(42).alias(\"MOL\"))\n",
    "meaning_of_life_df.show(5, False)"
   ]
  },
  {
   "cell_type": "code",
   "execution_count": 5,
   "id": "78128f61-520a-4ce5-82a9-23155867b74a",
   "metadata": {},
   "outputs": [
    {
     "name": "stdout",
     "output_type": "stream",
     "text": [
      "+--------------------+-----------+-----------+\n",
      "|               Title|Major_Genre|IMDB_Rating|\n",
      "+--------------------+-----------+-----------+\n",
      "|        12 Angry Men|      Drama|        8.9|\n",
      "|      Twelve Monkeys|      Drama|        8.1|\n",
      "|    Twin Falls Idaho|      Drama|        7.1|\n",
      "|                Amen|      Drama|        7.4|\n",
      "|        Barry Lyndon|      Drama|        8.1|\n",
      "|      Before Sunrise|      Drama|        8.0|\n",
      "|The Best Years of...|      Drama|        8.2|\n",
      "|      The Big Parade|      Drama|        8.4|\n",
      "|     Boyz n the Hood|      Drama|        7.8|\n",
      "|De battre mon coe...|      Drama|        7.3|\n",
      "|The Birth of a Na...|      Drama|        7.1|\n",
      "|The Bridge on the...|      Drama|        8.4|\n",
      "|Born on the Fourt...|      Drama|        7.2|\n",
      "|The Bridges of Ma...|      Drama|        7.2|\n",
      "|          Braveheart|      Drama|        8.4|\n",
      "|    Chariots of Fire|      Drama|        7.3|\n",
      "|Cat on a Hot Tin ...|      Drama|        8.0|\n",
      "|    The Color Purple|      Drama|        7.7|\n",
      "|   Central do Brasil|      Drama|        8.0|\n",
      "|             Dayereh|      Drama|        7.3|\n",
      "+--------------------+-----------+-----------+\n",
      "only showing top 20 rows\n",
      "\n"
     ]
    }
   ],
   "source": [
    "# demo_booleans\n",
    "\n",
    "drama_filter = movies_df.Major_Genre == \"Drama\" # column object of TYPE boolean\n",
    "good_rating_filter = movies_df.IMDB_Rating > 7.0\n",
    "# can use & (and), | (or), ~ (not)\n",
    "good_drama_filter = good_rating_filter & drama_filter\n",
    "\n",
    "# can use boolean column objects as arguments to filter\n",
    "good_dramas_df = movies_df.filter(good_drama_filter).select(\"Title\", \"Major_Genre\", \"IMDB_Rating\")\n",
    "good_dramas_df.show()\n"
   ]
  },
  {
   "cell_type": "code",
   "execution_count": 29,
   "id": "e7be5686-e421-4160-bc92-0bf81437ff1f",
   "metadata": {},
   "outputs": [
    {
     "name": "stdout",
     "output_type": "stream",
     "text": [
      "+--------------------------+-----------+-----------+--------------+\n",
      "|Title                     |Major_Genre|IMDB_Rating|IsItAGoodDrama|\n",
      "+--------------------------+-----------+-----------+--------------+\n",
      "|The Land Girls            |null       |6.1        |false         |\n",
      "|First Love, Last Rites    |Drama      |6.9        |false         |\n",
      "|I Married a Strange Person|Comedy     |6.8        |false         |\n",
      "|Let's Talk About Sex      |Comedy     |null       |false         |\n",
      "|Slam                      |Drama      |3.4        |false         |\n",
      "+--------------------------+-----------+-----------+--------------+\n",
      "only showing top 5 rows\n",
      "\n"
     ]
    }
   ],
   "source": [
    "# can add the col object as a column/property for every row\n",
    "movies_with_good_drama_condition_df = movies_df\\\n",
    "    .select(col(\"Title\"), col(\"Major_Genre\"), col(\"IMDB_Rating\"), good_drama_filter.alias(\"IsItAGoodDrama\"))\n",
    "\n",
    "movies_with_good_drama_condition_df.show(5, False)"
   ]
  },
  {
   "cell_type": "code",
   "execution_count": 30,
   "id": "8b11977f-985b-427f-8ac7-82ff8a1084fe",
   "metadata": {},
   "outputs": [
    {
     "name": "stdout",
     "output_type": "stream",
     "text": [
      "+----------------+-----------+-----------+--------------+\n",
      "|Title           |Major_Genre|IMDB_Rating|IsItAGoodDrama|\n",
      "+----------------+-----------+-----------+--------------+\n",
      "|12 Angry Men    |Drama      |8.9        |true          |\n",
      "|Twelve Monkeys  |Drama      |8.1        |true          |\n",
      "|Twin Falls Idaho|Drama      |7.1        |true          |\n",
      "|Amen            |Drama      |7.4        |true          |\n",
      "|Barry Lyndon    |Drama      |8.1        |true          |\n",
      "+----------------+-----------+-----------+--------------+\n",
      "only showing top 5 rows\n",
      "\n"
     ]
    }
   ],
   "source": [
    "# can filter using the true/false value of a column\n",
    "good_dramas_df_v2 = movies_with_good_drama_condition_df.filter(\"IsItAGoodDrama\")\n",
    "\n",
    "good_dramas_df_v2.show(5, False)"
   ]
  },
  {
   "cell_type": "code",
   "execution_count": 31,
   "id": "5e655c10-0fd6-4eb0-9302-e4e5d7b3e4b2",
   "metadata": {},
   "outputs": [
    {
     "name": "stdout",
     "output_type": "stream",
     "text": [
      "+--------------------------+-----------------------------------------------------+\n",
      "|Title                     |(NOT ((IMDB_Rating > 7.0) AND (Major_Genre = Drama)))|\n",
      "+--------------------------+-----------------------------------------------------+\n",
      "|The Land Girls            |true                                                 |\n",
      "|First Love, Last Rites    |true                                                 |\n",
      "|I Married a Strange Person|true                                                 |\n",
      "|Let's Talk About Sex      |true                                                 |\n",
      "|Slam                      |true                                                 |\n",
      "+--------------------------+-----------------------------------------------------+\n",
      "only showing top 5 rows\n",
      "\n"
     ]
    }
   ],
   "source": [
    "# negation\n",
    "bad_drama_filter = ~good_drama_filter\n",
    "bad_dramas = movies_df.select(col(\"Title\"), bad_drama_filter)\n",
    "bad_dramas.show(5, False)\n"
   ]
  },
  {
   "cell_type": "markdown",
   "id": "4ea652f9-6184-493e-b9bc-29b031b24c46",
   "metadata": {},
   "source": [
    "# Stat num functions"
   ]
  },
  {
   "cell_type": "code",
   "execution_count": 34,
   "id": "9368eeb2-da14-4d01-ab6c-67482cf4b620",
   "metadata": {},
   "outputs": [
    {
     "name": "stdout",
     "output_type": "stream",
     "text": [
      "+--------------------+---------------------------------------------------+\n",
      "|               Title|(((Rotten_Tomatoes_Rating / 10) + IMDB_Rating) / 2)|\n",
      "+--------------------+---------------------------------------------------+\n",
      "|      The Land Girls|                                               null|\n",
      "|First Love, Last ...|                                               null|\n",
      "|I Married a Stran...|                                               null|\n",
      "|Let's Talk About Sex|                                               null|\n",
      "|                Slam|                                                4.8|\n",
      "| Mississippi Mermaid|                                               null|\n",
      "|           Following|                                               null|\n",
      "|             Foolish|                                               null|\n",
      "|             Pirates|                                               4.15|\n",
      "|     Duel in the Sun|                                                7.8|\n",
      "|           Tom Jones|                                               7.55|\n",
      "|             Oliver!|                                               7.95|\n",
      "|To Kill A Mocking...|                                               9.05|\n",
      "|    Tora, Tora, Tora|                                               null|\n",
      "|   Hollywood Shuffle|                                               7.75|\n",
      "|Over the Hill to ...|                                               null|\n",
      "|              Wilson|                                               null|\n",
      "|        Darling Lili|                                               null|\n",
      "|The Ten Commandments|                                               5.75|\n",
      "|        12 Angry Men|                                               null|\n",
      "+--------------------+---------------------------------------------------+\n",
      "only showing top 20 rows\n",
      "\n"
     ]
    }
   ],
   "source": [
    "# CAN USE  +  -  /   *  \n",
    "movies_avg_ratings_df = movies_df\\\n",
    "    .select(\n",
    "    col(\"Title\"),\n",
    "    (col(\"Rotten_Tomatoes_Rating\") / 10 + col(\"IMDB_Rating\")) / 2\n",
    ")\n",
    "movies_avg_ratings_df.show()"
   ]
  },
  {
   "cell_type": "code",
   "execution_count": 35,
   "id": "3d761328-490c-4669-97da-840071176f81",
   "metadata": {},
   "outputs": [
    {
     "name": "stdout",
     "output_type": "stream",
     "text": [
      "+--------------------+--------------------------------------+\n",
      "|               Title|(Rotten_Tomatoes_Rating = IMDB_Rating)|\n",
      "+--------------------+--------------------------------------+\n",
      "|      The Land Girls|                                  null|\n",
      "|First Love, Last ...|                                  null|\n",
      "|I Married a Stran...|                                  null|\n",
      "|Let's Talk About Sex|                                  null|\n",
      "|                Slam|                                 false|\n",
      "| Mississippi Mermaid|                                  null|\n",
      "|           Following|                                  null|\n",
      "|             Foolish|                                  null|\n",
      "|             Pirates|                                 false|\n",
      "|     Duel in the Sun|                                 false|\n",
      "|           Tom Jones|                                 false|\n",
      "|             Oliver!|                                 false|\n",
      "|To Kill A Mocking...|                                 false|\n",
      "|    Tora, Tora, Tora|                                  null|\n",
      "|   Hollywood Shuffle|                                 false|\n",
      "|Over the Hill to ...|                                  null|\n",
      "|              Wilson|                                  null|\n",
      "|        Darling Lili|                                  null|\n",
      "|The Ten Commandments|                                 false|\n",
      "|        12 Angry Men|                                  null|\n",
      "+--------------------+--------------------------------------+\n",
      "only showing top 20 rows\n",
      "\n"
     ]
    }
   ],
   "source": [
    "# can use ==, >=, >, <, <= to obtain boolean col objects\n",
    "movies_df.select(\\\n",
    "    col(\"Title\"),\n",
    "    (col(\"Rotten_Tomatoes_Rating\") == col(\"IMDB_Rating\"))).show()\n"
   ]
  },
  {
   "cell_type": "code",
   "execution_count": 36,
   "id": "7931d7bd-e44a-4ea1-9bd8-2414de9a14fc",
   "metadata": {},
   "outputs": [
    {
     "name": "stdout",
     "output_type": "stream",
     "text": [
      "0.4259708986248316\n"
     ]
    }
   ],
   "source": [
    "# Pearson correlation - for numerical fields\n",
    "# a number [-1, 1]\n",
    "# is an \"action\" (the DF must be evaluated)\n",
    "rating_correlation = movies_df.stat.corr(\"IMDB_Rating\", \"Rotten_Tomatoes_Rating\")\n",
    "print(rating_correlation)\n"
   ]
  },
  {
   "cell_type": "markdown",
   "id": "e68d0b53-4dc5-4dfa-8a45-3a85dbb42e3f",
   "metadata": {},
   "source": [
    "# String functions"
   ]
  },
  {
   "cell_type": "code",
   "execution_count": 38,
   "id": "1971a8b2-82d2-452a-bba4-7adf557b9f9f",
   "metadata": {},
   "outputs": [
    {
     "name": "stdout",
     "output_type": "stream",
     "text": [
      "+--------------------+\n",
      "|      initcap(Title)|\n",
      "+--------------------+\n",
      "|      The Land Girls|\n",
      "|First Love, Last ...|\n",
      "|I Married A Stran...|\n",
      "|Let's Talk About Sex|\n",
      "|                Slam|\n",
      "| Mississippi Mermaid|\n",
      "|           Following|\n",
      "|             Foolish|\n",
      "|             Pirates|\n",
      "|     Duel In The Sun|\n",
      "|           Tom Jones|\n",
      "|             Oliver!|\n",
      "|To Kill A Mocking...|\n",
      "|    Tora, Tora, Tora|\n",
      "|   Hollywood Shuffle|\n",
      "|Over The Hill To ...|\n",
      "|              Wilson|\n",
      "|        Darling Lili|\n",
      "|The Ten Commandments|\n",
      "|        12 Angry Men|\n",
      "+--------------------+\n",
      "only showing top 20 rows\n",
      "\n"
     ]
    }
   ],
   "source": [
    "# translate the first letter of each word to upper case in the sentence.\n",
    "movies_df.select(initcap(col(\"Title\"))).show()"
   ]
  },
  {
   "cell_type": "code",
   "execution_count": 39,
   "id": "227d9816-a008-438c-ac28-f15211e3666f",
   "metadata": {},
   "outputs": [
    {
     "name": "stdout",
     "output_type": "stream",
     "text": [
      "+------------------+--------------+--------------------+-----------+----------+-----------+-----------+-----------------+------------+----------------------+----------------+-------------------------+-----------+------------+--------+---------------+\n",
      "|Creative_Type     |Director      |Distributor         |IMDB_Rating|IMDB_Votes|MPAA_Rating|Major_Genre|Production_Budget|Release_Date|Rotten_Tomatoes_Rating|Running_Time_min|Source                   |Title      |US_DVD_Sales|US_Gross|Worldwide_Gross|\n",
      "+------------------+--------------+--------------------+-----------+----------+-----------+-----------+-----------------+------------+----------------------+----------------+-------------------------+-----------+------------+--------+---------------+\n",
      "|Science Fiction   |Matt Reeves   |Paramount Pictures  |7.4        |136068    |PG-13      |Action     |25000000         |18-Jan-08   |76                    |null            |Original Screenplay      |Cloverfield|29180398    |80048433|170764033      |\n",
      "|Historical Fiction|Jonathan Demme|Walt Disney Pictures|5.3        |102       |R          |Drama      |53000000         |16-Oct-98   |77                    |172             |Based on Book/Short Story|Beloved    |null        |22852487|22852487       |\n",
      "+------------------+--------------+--------------------+-----------+----------+-----------+-----------+-----------------+------------+----------------------+----------------+-------------------------+-----------+------------+--------+---------------+\n",
      "\n"
     ]
    }
   ],
   "source": [
    "movies_df.filter(col(\"Title\").contains(\"love\")).show(5, False)\n"
   ]
  },
  {
   "cell_type": "markdown",
   "id": "d127f743-1117-48ee-acdf-b4dcb8a332e6",
   "metadata": {},
   "source": [
    "# Regexes filtering"
   ]
  },
  {
   "cell_type": "code",
   "execution_count": 40,
   "id": "818f3667-060d-4d07-9724-8f91cea93d61",
   "metadata": {},
   "outputs": [
    {
     "name": "stdout",
     "output_type": "stream",
     "text": [
      "+----------------------------+-------------+\n",
      "|Name                        |regex_extract|\n",
      "+----------------------------+-------------+\n",
      "|volkswagen 1131 deluxe sedan|volkswagen   |\n",
      "|volkswagen super beetle 117 |volkswagen   |\n",
      "|volkswagen model 111        |volkswagen   |\n",
      "|volkswagen type 3           |volkswagen   |\n",
      "|volkswagen 411 (sw)         |volkswagen   |\n",
      "+----------------------------+-------------+\n",
      "only showing top 5 rows\n",
      "\n"
     ]
    }
   ],
   "source": [
    "cars_df = spark.read.json(\"data/cars\")\n",
    "\n",
    "regexString = \"volkswagen|vw\"\n",
    "vw_df = cars_df.select(\n",
    "    col(\"Name\"),\n",
    "    regexp_extract(col(\"Name\"), regexString, 0).alias(\"regex_extract\")\n",
    ").filter(col(\"regex_extract\") != \"\")\n",
    "\n",
    "vw_df.show(5, False)"
   ]
  },
  {
   "cell_type": "code",
   "execution_count": 41,
   "id": "8aa4334d-7d1a-4c81-a2b6-e4b65e390733",
   "metadata": {},
   "outputs": [
    {
     "name": "stdout",
     "output_type": "stream",
     "text": [
      "+----------------------------+----------------------------+\n",
      "|Name                        |replacement                 |\n",
      "+----------------------------+----------------------------+\n",
      "|volkswagen 1131 deluxe sedan|Volkswagen 1131 deluxe sedan|\n",
      "|volkswagen super beetle 117 |Volkswagen super beetle 117 |\n",
      "|volkswagen model 111        |Volkswagen model 111        |\n",
      "|volkswagen type 3           |Volkswagen type 3           |\n",
      "|volkswagen 411 (sw)         |Volkswagen 411 (sw)         |\n",
      "+----------------------------+----------------------------+\n",
      "only showing top 5 rows\n",
      "\n"
     ]
    }
   ],
   "source": [
    "vw_new_name_df = vw_df.select(\n",
    "    col(\"Name\"),\n",
    "    regexp_replace(col(\"Name\"), regexString, \"Volkswagen\").alias(\"replacement\")\n",
    ")\n",
    "vw_new_name_df.show(5, False)"
   ]
  },
  {
   "cell_type": "markdown",
   "id": "ad28e0a9-eef3-4bb5-81a6-a1a85e4ceb21",
   "metadata": {},
   "source": [
    "# Exercise\n",
    "\n",
    "    Filter the cars DF, return all cars whose name contains either element of the list\n",
    "    - contains function\n",
    "    - regexes"
   ]
  },
  {
   "cell_type": "code",
   "execution_count": 44,
   "id": "38099f66-174a-4e9a-ab38-e006d6d1a4a7",
   "metadata": {},
   "outputs": [
    {
     "name": "stdout",
     "output_type": "stream",
     "text": [
      "+----+-------------+\n",
      "|Name|regex_extract|\n",
      "+----+-------------+\n",
      "+----+-------------+\n",
      "\n"
     ]
    }
   ],
   "source": [
    "def get_car_names():\n",
    "    return [\"Volkswagen\", \"Mercedes-Benz\", \"Ford\"]"
   ]
  },
  {
   "cell_type": "code",
   "execution_count": 21,
   "id": "5aeae3f9-ac87-42cc-a684-93813ba33661",
   "metadata": {},
   "outputs": [
    {
     "name": "stdout",
     "output_type": "stream",
     "text": [
      "+------------+---------+------------+----------+----------------+---------------------+------+-------------+----------+\n",
      "|Acceleration|Cylinders|Displacement|Horsepower|Miles_per_Gallon|Name                 |Origin|Weight_in_lbs|Year      |\n",
      "+------------+---------+------------+----------+----------------+---------------------+------+-------------+----------+\n",
      "|10.5        |8        |302.0       |140       |17.0            |ford torino          |USA   |3449         |1970-01-01|\n",
      "|10.0        |8        |429.0       |198       |15.0            |ford galaxie 500     |USA   |4341         |1970-01-01|\n",
      "|11.0        |8        |351.0       |153       |null            |ford torino (sw)     |USA   |4034         |1970-01-01|\n",
      "|8.0         |8        |302.0       |140       |null            |ford mustang boss 302|USA   |3353         |1970-01-01|\n",
      "|16.0        |6        |200.0       |85        |21.0            |ford maverick        |USA   |2587         |1970-01-01|\n",
      "+------------+---------+------------+----------+----------------+---------------------+------+-------------+----------+\n",
      "only showing top 5 rows\n",
      "\n"
     ]
    }
   ],
   "source": []
  },
  {
   "cell_type": "markdown",
   "id": "3f23bd46-a7f5-4c2d-92e5-fb70ca721373",
   "metadata": {},
   "source": [
    "# Date type"
   ]
  },
  {
   "cell_type": "code",
   "execution_count": 118,
   "id": "f5ae2f51-eb6f-4d0f-9624-0d56d917bfd1",
   "metadata": {},
   "outputs": [
    {
     "name": "stdout",
     "output_type": "stream",
     "text": [
      "+--------------------+--------------+\n",
      "|               Title|Actual_Release|\n",
      "+--------------------+--------------+\n",
      "|      The Land Girls|    1997-12-28|\n",
      "|First Love, Last ...|    1997-12-28|\n",
      "|I Married a Stran...|    1997-12-28|\n",
      "|Let's Talk About Sex|    1997-12-28|\n",
      "|                Slam|    1997-12-28|\n",
      "| Mississippi Mermaid|    1998-12-27|\n",
      "|           Following|    1998-12-27|\n",
      "|             Foolish|    1998-12-27|\n",
      "|             Pirates|    1985-12-29|\n",
      "|     Duel in the Sun|    1945-12-30|\n",
      "|           Tom Jones|    1962-12-30|\n",
      "|             Oliver!|    1967-12-31|\n",
      "|To Kill A Mocking...|    1961-12-31|\n",
      "|    Tora, Tora, Tora|    1969-12-28|\n",
      "|   Hollywood Shuffle|    1986-12-28|\n",
      "|Over the Hill to ...|    2019-12-29|\n",
      "|              Wilson|    1943-12-26|\n",
      "|        Darling Lili|    1969-12-28|\n",
      "|The Ten Commandments|    1956-01-01|\n",
      "|        12 Angry Men|    1956-12-30|\n",
      "+--------------------+--------------+\n",
      "only showing top 20 rows\n",
      "\n"
     ]
    }
   ],
   "source": [
    "# TODO Not working in Spark 2.4\n",
    "# How to conver data\n",
    "spark.conf.set(\"spark.sql.legacy.timeParserPolicy\",\"LEGACY\")\n",
    "\n",
    "movies_with_release_dates_df = movies_df.select(\n",
    "    col(\"Title\"),\n",
    "    to_date(col(\"Release_Date\"), \"dd-MMM-YY\").alias(\"Actual_Release\")\n",
    ")\n",
    "\n",
    "#     to_date(col(\"Release_Date\"), \"dd-MMM-YY\").alias(\"Actual_Release\")\n",
    "\n",
    "movies_with_release_dates_df.show()"
   ]
  },
  {
   "cell_type": "code",
   "execution_count": 119,
   "id": "796a105f-9837-4b15-9ddd-25d04232e981",
   "metadata": {},
   "outputs": [
    {
     "name": "stdout",
     "output_type": "stream",
     "text": [
      "+--------------------+--------------+----------+--------------------+------------------+\n",
      "|               Title|Actual_Release|     Today|           Right_Now|         Movie_Age|\n",
      "+--------------------+--------------+----------+--------------------+------------------+\n",
      "|      The Land Girls|    1997-12-28|2023-11-10|2023-11-10 15:32:...|25.884931506849316|\n",
      "|First Love, Last ...|    1997-12-28|2023-11-10|2023-11-10 15:32:...|25.884931506849316|\n",
      "|I Married a Stran...|    1997-12-28|2023-11-10|2023-11-10 15:32:...|25.884931506849316|\n",
      "|Let's Talk About Sex|    1997-12-28|2023-11-10|2023-11-10 15:32:...|25.884931506849316|\n",
      "|                Slam|    1997-12-28|2023-11-10|2023-11-10 15:32:...|25.884931506849316|\n",
      "| Mississippi Mermaid|    1998-12-27|2023-11-10|2023-11-10 15:32:...|24.887671232876713|\n",
      "|           Following|    1998-12-27|2023-11-10|2023-11-10 15:32:...|24.887671232876713|\n",
      "|             Foolish|    1998-12-27|2023-11-10|2023-11-10 15:32:...|24.887671232876713|\n",
      "|             Pirates|    1985-12-29|2023-11-10|2023-11-10 15:32:...| 37.89041095890411|\n",
      "|     Duel in the Sun|    1945-12-30|2023-11-10|2023-11-10 15:32:...| 77.91506849315068|\n",
      "|           Tom Jones|    1962-12-30|2023-11-10|2023-11-10 15:32:...|  60.9041095890411|\n",
      "|             Oliver!|    1967-12-31|2023-11-10|2023-11-10 15:32:...|  55.8986301369863|\n",
      "|To Kill A Mocking...|    1961-12-31|2023-11-10|2023-11-10 15:32:...|  61.9013698630137|\n",
      "|    Tora, Tora, Tora|    1969-12-28|2023-11-10|2023-11-10 15:32:...|  53.9041095890411|\n",
      "|   Hollywood Shuffle|    1986-12-28|2023-11-10|2023-11-10 15:32:...|36.893150684931506|\n",
      "|Over the Hill to ...|    2019-12-29|2023-11-10|2023-11-10 15:32:...|3.8684931506849316|\n",
      "|              Wilson|    1943-12-26|2023-11-10|2023-11-10 15:32:...| 79.92876712328767|\n",
      "|        Darling Lili|    1969-12-28|2023-11-10|2023-11-10 15:32:...|  53.9041095890411|\n",
      "|The Ten Commandments|    1956-01-01|2023-11-10|2023-11-10 15:32:...|  67.9041095890411|\n",
      "|        12 Angry Men|    1956-12-30|2023-11-10|2023-11-10 15:32:...|  66.9068493150685|\n",
      "+--------------------+--------------+----------+--------------------+------------------+\n",
      "only showing top 20 rows\n",
      "\n"
     ]
    }
   ],
   "source": [
    "# date operations\n",
    "enriched_movies_df = movies_with_release_dates_df. \\\n",
    "    withColumn(\"Today\", current_date()). \\\n",
    "    withColumn(\"Right_Now\", current_timestamp()). \\\n",
    "    withColumn(\"Movie_Age\", datediff(col(\"Today\"), col(\"Actual_Release\")) / 365)\n",
    "\n",
    "\n",
    "enriched_movies_df.show()"
   ]
  },
  {
   "cell_type": "code",
   "execution_count": 120,
   "id": "63232adf-8abb-4397-8b10-3bf346cd40e7",
   "metadata": {},
   "outputs": [
    {
     "name": "stdout",
     "output_type": "stream",
     "text": [
      "+--------------------+--------------+\n",
      "|               Title|Actual_Release|\n",
      "+--------------------+--------------+\n",
      "|   55 Days at Peking|          null|\n",
      "|Alexander's Ragti...|          null|\n",
      "|American Ninja 2:...|          null|\n",
      "|       The Apartment|          null|\n",
      "|        Barry Lyndon|          null|\n",
      "|     Barbarians, The|          null|\n",
      "|Battle for the Pl...|          null|\n",
      "|Return to the Blu...|          null|\n",
      "|       The Blue Bird|          null|\n",
      "| The Broadway Melody|          null|\n",
      "|           Boom Town|          null|\n",
      "|      Bathing Beauty|          null|\n",
      "|The Boys from Brazil|          null|\n",
      "|         Coming Home|          null|\n",
      "|Conquest of the P...|          null|\n",
      "|            Caravans|          null|\n",
      "|          Casablanca|          null|\n",
      "|Can't Stop the Music|          null|\n",
      "|      Donovan's Reef|          null|\n",
      "|             Dolphin|          null|\n",
      "+--------------------+--------------+\n",
      "only showing top 20 rows\n",
      "\n"
     ]
    }
   ],
   "source": [
    "# check for empty date\n",
    "no_release_known_df = movies_with_release_dates_df.filter(col(\"Actual_Release\").isNull())\n",
    "no_release_known_df.show()"
   ]
  },
  {
   "cell_type": "code",
   "execution_count": null,
   "id": "bb69ea2a-6e49-4493-8de6-d84585bfbf92",
   "metadata": {},
   "outputs": [],
   "source": [
    "# hypothetical\n",
    "movies_with_2_formats = movies_df.select(col(\"Title\"), col(\"Release_Date\")). \\\n",
    "    withColumn(\"Date_F1\", to_date(col(\"Release_Date\"), \"dd-MM-yyyy\")). \\\n",
    "    withColumn(\"Date_F2\", to_date(col(\"Release_Date\"), \"yyyy-MM-dd\")). \\\n",
    "    withColumn(\"Actual_Date\", coalesce(col(\"Date_F1\"), col(\"Date_F2\")))"
   ]
  },
  {
   "cell_type": "markdown",
   "id": "1136b515-7985-4d1e-931c-b89a3178ee90",
   "metadata": {},
   "source": [
    "# Structures"
   ]
  },
  {
   "cell_type": "code",
   "execution_count": 45,
   "id": "aaf9ac3f-9089-42fa-b874-2810b3b03c4b",
   "metadata": {},
   "outputs": [
    {
     "name": "stdout",
     "output_type": "stream",
     "text": [
      "structures create\n",
      "+--------------------+--------------------+\n",
      "|               Title|              Profit|\n",
      "+--------------------+--------------------+\n",
      "|      The Land Girls|{146083, 146083, ...|\n",
      "|First Love, Last ...|{10876, 10876, null}|\n",
      "|I Married a Stran...|{203134, 203134, ...|\n",
      "|Let's Talk About Sex|{373615, 373615, ...|\n",
      "|                Slam|{1009819, 1087521...|\n",
      "| Mississippi Mermaid|{24551, 2624551, ...|\n",
      "|           Following|{44705, 44705, null}|\n",
      "|             Foolish|{6026908, 6026908...|\n",
      "|             Pirates|{1641825, 6341825...|\n",
      "|     Duel in the Sun|{20400000, 204000...|\n",
      "|           Tom Jones|{37600000, 376000...|\n",
      "|             Oliver!|{37402877, 374028...|\n",
      "|To Kill A Mocking...|{13129846, 131298...|\n",
      "|    Tora, Tora, Tora|{29548291, 295482...|\n",
      "|   Hollywood Shuffle|{5228617, 5228617...|\n",
      "|Over the Hill to ...|{3000000, 3000000...|\n",
      "|              Wilson|{2000000, 2000000...|\n",
      "|        Darling Lili|{5000000, 5000000...|\n",
      "|The Ten Commandments|{80000000, 800000...|\n",
      "|        12 Angry Men|        {0, 0, null}|\n",
      "+--------------------+--------------------+\n",
      "only showing top 20 rows\n",
      "\n"
     ]
    }
   ],
   "source": [
    "# structures\n",
    "print(\"structures create\")\n",
    "movies_struct_df = movies_df. \\\n",
    "    select(col(\"Title\"), struct(col(\"US_Gross\"), col(\"Worldwide_Gross\"), col(\"US_DVD_Sales\")).alias(\"Profit\"))\n",
    "\n",
    "movies_struct_df.show()\n"
   ]
  },
  {
   "cell_type": "code",
   "execution_count": 46,
   "id": "bf0ddd53-7b0e-4573-b5bb-f6ba72c75193",
   "metadata": {},
   "outputs": [
    {
     "name": "stdout",
     "output_type": "stream",
     "text": [
      "+--------------------+---------+\n",
      "|               Title|US_Profit|\n",
      "+--------------------+---------+\n",
      "|      The Land Girls|   146083|\n",
      "|First Love, Last ...|    10876|\n",
      "|I Married a Stran...|   203134|\n",
      "|Let's Talk About Sex|   373615|\n",
      "|                Slam|  1009819|\n",
      "| Mississippi Mermaid|    24551|\n",
      "|           Following|    44705|\n",
      "|             Foolish|  6026908|\n",
      "|             Pirates|  1641825|\n",
      "|     Duel in the Sun| 20400000|\n",
      "|           Tom Jones| 37600000|\n",
      "|             Oliver!| 37402877|\n",
      "|To Kill A Mocking...| 13129846|\n",
      "|    Tora, Tora, Tora| 29548291|\n",
      "|   Hollywood Shuffle|  5228617|\n",
      "|Over the Hill to ...|  3000000|\n",
      "|              Wilson|  2000000|\n",
      "|        Darling Lili|  5000000|\n",
      "|The Ten Commandments| 80000000|\n",
      "|        12 Angry Men|        0|\n",
      "+--------------------+---------+\n",
      "only showing top 20 rows\n",
      "\n"
     ]
    }
   ],
   "source": [
    "# get fields\n",
    "\n",
    "movies_struct_df. \\\n",
    "    select(col(\"Title\"), col(\"Profit\").getField(\"US_Gross\").alias(\"US_Profit\")).\\\n",
    "    show()\n"
   ]
  },
  {
   "cell_type": "code",
   "execution_count": 35,
   "id": "2704a040-ee97-40c4-b63c-9bd0e4f232b5",
   "metadata": {},
   "outputs": [
    {
     "name": "stdout",
     "output_type": "stream",
     "text": [
      "+--------------------+---------+\n",
      "|               Title|US_Profit|\n",
      "+--------------------+---------+\n",
      "|      The Land Girls|   146083|\n",
      "|First Love, Last ...|    10876|\n",
      "|I Married a Stran...|   203134|\n",
      "|Let's Talk About Sex|   373615|\n",
      "|                Slam|  1009819|\n",
      "| Mississippi Mermaid|    24551|\n",
      "|           Following|    44705|\n",
      "|             Foolish|  6026908|\n",
      "|             Pirates|  1641825|\n",
      "|     Duel in the Sun| 20400000|\n",
      "|           Tom Jones| 37600000|\n",
      "|             Oliver!| 37402877|\n",
      "|To Kill A Mocking...| 13129846|\n",
      "|    Tora, Tora, Tora| 29548291|\n",
      "|   Hollywood Shuffle|  5228617|\n",
      "|Over the Hill to ...|  3000000|\n",
      "|              Wilson|  2000000|\n",
      "|        Darling Lili|  5000000|\n",
      "|The Ten Commandments| 80000000|\n",
      "|        12 Angry Men|        0|\n",
      "+--------------------+---------+\n",
      "only showing top 20 rows\n",
      "\n"
     ]
    }
   ],
   "source": [
    "# structures - SQL expression strings\n",
    "movies_struct_df_v2 = movies_df. \\\n",
    "    selectExpr(\"Title\", \"(US_Gross, Worldwide_Gross, US_DVD_Sales) as Profit\"). \\\n",
    "    selectExpr(\"Title\", \"Profit.US_Gross as US_Profit\")\n",
    "\n",
    "movies_struct_df_v2.show()"
   ]
  },
  {
   "cell_type": "code",
   "execution_count": 47,
   "id": "5f67a743-360a-4f88-8639-30f21c0db1dd",
   "metadata": {},
   "outputs": [
    {
     "name": "stdout",
     "output_type": "stream",
     "text": [
      "nested data structures\n",
      "+--------------------+--------------------+\n",
      "|               Title|             Success|\n",
      "+--------------------+--------------------+\n",
      "|      The Land Girls|{{6.1, null}, {14...|\n",
      "|First Love, Last ...|{{6.9, null}, {10...|\n",
      "|I Married a Stran...|{{6.8, null}, {20...|\n",
      "|Let's Talk About Sex|{{null, 13}, {373...|\n",
      "|                Slam|{{3.4, 62}, {1009...|\n",
      "| Mississippi Mermaid|{{null, null}, {2...|\n",
      "|           Following|{{7.7, null}, {44...|\n",
      "|             Foolish|{{3.8, null}, {60...|\n",
      "|             Pirates|{{5.8, 25}, {1641...|\n",
      "|     Duel in the Sun|{{7.0, 86}, {2040...|\n",
      "|           Tom Jones|{{7.0, 81}, {3760...|\n",
      "|             Oliver!|{{7.5, 84}, {3740...|\n",
      "|To Kill A Mocking...|{{8.4, 97}, {1312...|\n",
      "|    Tora, Tora, Tora|{{null, null}, {2...|\n",
      "|   Hollywood Shuffle|{{6.8, 87}, {5228...|\n",
      "|Over the Hill to ...|{{null, null}, {3...|\n",
      "|              Wilson|{{7.0, null}, {20...|\n",
      "|        Darling Lili|{{6.1, null}, {50...|\n",
      "|The Ten Commandments|{{2.5, 90}, {8000...|\n",
      "|        12 Angry Men|{{8.9, null}, {0,...|\n",
      "+--------------------+--------------------+\n",
      "only showing top 20 rows\n",
      "\n"
     ]
    }
   ],
   "source": [
    "# very nested data structures\n",
    "movies_struct_df_v3 = movies_df. \\\n",
    "    selectExpr(\"Title\",\n",
    "               \"((IMDB_Rating, Rotten_Tomatoes_Rating) as Rating, (US_Gross, Worldwide_Gross, US_DVD_Sales) as Profit) as Success\")\n",
    "print(\"nested data structures\")\n",
    "\n",
    "movies_struct_df_v3.show()\n"
   ]
  },
  {
   "cell_type": "code",
   "execution_count": 48,
   "id": "0ad2c743-9671-4333-bc93-ee64ecf225d5",
   "metadata": {},
   "outputs": [
    {
     "name": "stdout",
     "output_type": "stream",
     "text": [
      "+--------------------+----+\n",
      "|               Title|IMDB|\n",
      "+--------------------+----+\n",
      "|      The Land Girls| 6.1|\n",
      "|First Love, Last ...| 6.9|\n",
      "|I Married a Stran...| 6.8|\n",
      "|Let's Talk About Sex|null|\n",
      "|                Slam| 3.4|\n",
      "| Mississippi Mermaid|null|\n",
      "|           Following| 7.7|\n",
      "|             Foolish| 3.8|\n",
      "|             Pirates| 5.8|\n",
      "|     Duel in the Sun| 7.0|\n",
      "|           Tom Jones| 7.0|\n",
      "|             Oliver!| 7.5|\n",
      "|To Kill A Mocking...| 8.4|\n",
      "|    Tora, Tora, Tora|null|\n",
      "|   Hollywood Shuffle| 6.8|\n",
      "|Over the Hill to ...|null|\n",
      "|              Wilson| 7.0|\n",
      "|        Darling Lili| 6.1|\n",
      "|The Ten Commandments| 2.5|\n",
      "|        12 Angry Men| 8.9|\n",
      "+--------------------+----+\n",
      "only showing top 20 rows\n",
      "\n",
      "+--------------------+--------------------+\n",
      "|               Title|             Success|\n",
      "+--------------------+--------------------+\n",
      "|      The Land Girls|{{6.1, null}, {14...|\n",
      "|First Love, Last ...|{{6.9, null}, {10...|\n",
      "|I Married a Stran...|{{6.8, null}, {20...|\n",
      "|Let's Talk About Sex|{{null, 13}, {373...|\n",
      "|                Slam|{{3.4, 62}, {1009...|\n",
      "| Mississippi Mermaid|{{null, null}, {2...|\n",
      "|           Following|{{7.7, null}, {44...|\n",
      "|             Foolish|{{3.8, null}, {60...|\n",
      "|             Pirates|{{5.8, 25}, {1641...|\n",
      "|     Duel in the Sun|{{7.0, 86}, {2040...|\n",
      "|           Tom Jones|{{7.0, 81}, {3760...|\n",
      "|             Oliver!|{{7.5, 84}, {3740...|\n",
      "|To Kill A Mocking...|{{8.4, 97}, {1312...|\n",
      "|    Tora, Tora, Tora|{{null, null}, {2...|\n",
      "|   Hollywood Shuffle|{{6.8, 87}, {5228...|\n",
      "|Over the Hill to ...|{{null, null}, {3...|\n",
      "|              Wilson|{{7.0, null}, {20...|\n",
      "|        Darling Lili|{{6.1, null}, {50...|\n",
      "|The Ten Commandments|{{2.5, 90}, {8000...|\n",
      "|        12 Angry Men|{{8.9, null}, {0,...|\n",
      "+--------------------+--------------------+\n",
      "only showing top 20 rows\n",
      "\n"
     ]
    }
   ],
   "source": [
    "movies_struct_df_v3. \\\n",
    "    selectExpr(\"Title\", \"Success.Rating.IMDB_Rating as IMDB\").show()\n",
    "\n",
    "movies_struct_df_v3.show()"
   ]
  },
  {
   "cell_type": "markdown",
   "id": "a41f7ab3-5a76-4196-ad2c-9f548ac3e0c0",
   "metadata": {},
   "source": [
    "# arrays"
   ]
  },
  {
   "cell_type": "code",
   "execution_count": 49,
   "id": "574a6468-e765-492d-a269-6c5061b535fc",
   "metadata": {},
   "outputs": [
    {
     "name": "stdout",
     "output_type": "stream",
     "text": [
      "root\n",
      " |-- Title: string (nullable = true)\n",
      " |-- Title_Words: array (nullable = true)\n",
      " |    |-- element: string (containsNull = false)\n",
      " |-- Director_Words: array (nullable = true)\n",
      " |    |-- element: string (containsNull = false)\n",
      "\n",
      "+--------------------+--------------------+--------------------+\n",
      "|               Title|         Title_Words|      Director_Words|\n",
      "+--------------------+--------------------+--------------------+\n",
      "|      The Land Girls|  [The, Land, Girls]|                null|\n",
      "|First Love, Last ...|[First, Love, , L...|                null|\n",
      "|I Married a Stran...|[I, Married, a, S...|                null|\n",
      "|Let's Talk About Sex|[Let's, Talk, Abo...|                null|\n",
      "|                Slam|              [Slam]|                null|\n",
      "| Mississippi Mermaid|[Mississippi, Mer...|                null|\n",
      "|           Following|         [Following]|[Christopher, Nolan]|\n",
      "|             Foolish|           [Foolish]|                null|\n",
      "|             Pirates|           [Pirates]|   [Roman, Polanski]|\n",
      "|     Duel in the Sun|[Duel, in, the, Sun]|                null|\n",
      "|           Tom Jones|        [Tom, Jones]|                null|\n",
      "|             Oliver!|           [Oliver!]|                null|\n",
      "|To Kill A Mocking...|[To, Kill, A, Moc...|                null|\n",
      "|    Tora, Tora, Tora|[Tora, , Tora, , ...|[Richard, Fleischer]|\n",
      "|   Hollywood Shuffle|[Hollywood, Shuffle]|                null|\n",
      "|Over the Hill to ...|[Over, the, Hill,...|                null|\n",
      "|              Wilson|            [Wilson]|                null|\n",
      "|        Darling Lili|     [Darling, Lili]|    [Blake, Edwards]|\n",
      "|The Ten Commandments|[The, Ten, Comman...|                null|\n",
      "|        12 Angry Men|    [12, Angry, Men]|     [Sidney, Lumet]|\n",
      "+--------------------+--------------------+--------------------+\n",
      "only showing top 20 rows\n",
      "\n"
     ]
    }
   ],
   "source": [
    "\n",
    "movies_with_words_df = movies_df.\\\n",
    "    select(col(\"Title\"),\n",
    "    split(col(\"Title\"), \" |,\").alias(\"Title_Words\"),\n",
    "    split(col(\"Director\"), \" |,\").alias(\"Director_Words\"))\n",
    "\n",
    "movies_with_words_df.printSchema()\n",
    "movies_with_words_df.show()\n",
    "\n",
    "# ^^^^^^^^^^^^^^^^^^^^^^^^ col object of type ARRAY[String]\n",
    "# you can have nested arrays"
   ]
  },
  {
   "cell_type": "code",
   "execution_count": 50,
   "id": "2fd689ea-b476-494c-915e-6a5354d5e6fc",
   "metadata": {},
   "outputs": [
    {
     "name": "stdout",
     "output_type": "stream",
     "text": [
      "+--------------------+--------------+-----------------+---------------------------------+\n",
      "|               Title|Title_Words[0]|size(Title_Words)|array_contains(Title_Words, Love)|\n",
      "+--------------------+--------------+-----------------+---------------------------------+\n",
      "|      The Land Girls|           The|                3|                            false|\n",
      "|First Love, Last ...|         First|                5|                             true|\n",
      "|I Married a Stran...|             I|                5|                            false|\n",
      "|Let's Talk About Sex|         Let's|                4|                            false|\n",
      "|                Slam|          Slam|                1|                            false|\n",
      "| Mississippi Mermaid|   Mississippi|                2|                            false|\n",
      "|           Following|     Following|                1|                            false|\n",
      "|             Foolish|       Foolish|                1|                            false|\n",
      "|             Pirates|       Pirates|                1|                            false|\n",
      "|     Duel in the Sun|          Duel|                4|                            false|\n",
      "|           Tom Jones|           Tom|                2|                            false|\n",
      "|             Oliver!|       Oliver!|                1|                            false|\n",
      "|To Kill A Mocking...|            To|                4|                            false|\n",
      "|    Tora, Tora, Tora|          Tora|                5|                            false|\n",
      "|   Hollywood Shuffle|     Hollywood|                2|                            false|\n",
      "|Over the Hill to ...|          Over|                6|                            false|\n",
      "|              Wilson|        Wilson|                1|                            false|\n",
      "|        Darling Lili|       Darling|                2|                            false|\n",
      "|The Ten Commandments|           The|                3|                            false|\n",
      "|        12 Angry Men|            12|                3|                            false|\n",
      "+--------------------+--------------+-----------------+---------------------------------+\n",
      "only showing top 20 rows\n",
      "\n"
     ]
    }
   ],
   "source": [
    "# array operations\n",
    "array_ops_df = movies_with_words_df.select(\n",
    "    col(\"Title\"),\n",
    "    expr(\"Title_Words[0]\"),  # the first element in the array\n",
    "    size(col(\"Title_Words\")),  # the length of the array\n",
    "    array_contains(col(\"Title_Words\"), \"Love\")\n",
    "    # a bunch of array_(...) functions\n",
    ")\n",
    "\n",
    "array_ops_df.show()\n"
   ]
  },
  {
   "cell_type": "code",
   "execution_count": 51,
   "id": "5930d965-c3d8-42dd-9f5b-f860bf377131",
   "metadata": {},
   "outputs": [
    {
     "name": "stdout",
     "output_type": "stream",
     "text": [
      "+--------------------+-----------+\n",
      "|               Title|        col|\n",
      "+--------------------+-----------+\n",
      "|      The Land Girls|        The|\n",
      "|      The Land Girls|       Land|\n",
      "|      The Land Girls|      Girls|\n",
      "|First Love, Last ...|      First|\n",
      "|First Love, Last ...|       Love|\n",
      "|First Love, Last ...|           |\n",
      "|First Love, Last ...|       Last|\n",
      "|First Love, Last ...|      Rites|\n",
      "|I Married a Stran...|          I|\n",
      "|I Married a Stran...|    Married|\n",
      "|I Married a Stran...|          a|\n",
      "|I Married a Stran...|    Strange|\n",
      "|I Married a Stran...|     Person|\n",
      "|Let's Talk About Sex|      Let's|\n",
      "|Let's Talk About Sex|       Talk|\n",
      "|Let's Talk About Sex|      About|\n",
      "|Let's Talk About Sex|        Sex|\n",
      "|                Slam|       Slam|\n",
      "| Mississippi Mermaid|Mississippi|\n",
      "| Mississippi Mermaid|    Mermaid|\n",
      "+--------------------+-----------+\n",
      "only showing top 20 rows\n",
      "\n"
     ]
    }
   ],
   "source": [
    "# Flat arrays\n",
    "\n",
    "array_ops_df = movies_with_words_df.select(\n",
    "    col(\"Title\"),\n",
    "    explode(col(\"Title_Words\"))\n",
    ")\n",
    "\n",
    "array_ops_df.show()\n"
   ]
  },
  {
   "cell_type": "code",
   "execution_count": 112,
   "id": "4f07b78c-bc32-4bfb-a5dc-c0cb9c94a4ab",
   "metadata": {},
   "outputs": [
    {
     "name": "stdout",
     "output_type": "stream",
     "text": [
      "+-----------+--------------------+-------+---------+----------+\n",
      "|business_id|        full_address|    day|open_time|close_time|\n",
      "+-----------+--------------------+-------+---------+----------+\n",
      "|        abs|      random_address| Monday|    10:00|     20:00|\n",
      "|        abs|      random_address|Tuesday|    10:30|     19:30|\n",
      "|       temp|another random_ad...| Friday|    10:00|     20:00|\n",
      "+-----------+--------------------+-------+---------+----------+\n",
      "\n"
     ]
    }
   ],
   "source": [
    "business_df = spark.read.json(\"data/business\")\n",
    "assert(business_df.count() != 0)\n",
    "#business_df.printSchema()"
   ]
  },
  {
   "cell_type": "code",
   "execution_count": null,
   "id": "b42d2edc-a2c1-4564-8b50-2bcf3e91ba4e",
   "metadata": {},
   "outputs": [],
   "source": []
  },
  {
   "cell_type": "code",
   "execution_count": null,
   "id": "261848c0-e09f-4958-94d7-41a6a02e1b1d",
   "metadata": {},
   "outputs": [],
   "source": []
  }
 ],
 "metadata": {
  "kernelspec": {
   "display_name": "Python 3 (ipykernel)",
   "language": "python",
   "name": "python3"
  },
  "language_info": {
   "codemirror_mode": {
    "name": "ipython",
    "version": 3
   },
   "file_extension": ".py",
   "mimetype": "text/x-python",
   "name": "python",
   "nbconvert_exporter": "python",
   "pygments_lexer": "ipython3",
   "version": "3.11.4"
  }
 },
 "nbformat": 4,
 "nbformat_minor": 5
}
