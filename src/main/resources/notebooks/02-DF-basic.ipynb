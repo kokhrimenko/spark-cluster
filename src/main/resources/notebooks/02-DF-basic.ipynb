{
 "cells": [
  {
   "cell_type": "code",
   "execution_count": 1,
   "id": "feaa5e22-d2a9-4463-a1e3-191d51816053",
   "metadata": {},
   "outputs": [],
   "source": [
    "from time import sleep\n",
    "\n",
    "from pyspark.sql import SparkSession\n",
    "from pyspark.sql.functions import expr, col\n",
    "from pyspark.sql.types import *\n",
    "\n",
    "\n",
    "spark = SparkSession.builder.master(\"local\").getOrCreate()\n",
    "sc = spark.sparkContext"
   ]
  },
  {
   "cell_type": "markdown",
   "id": "2b98ce7e-fd80-419e-a6d3-2252c5dae8e6",
   "metadata": {},
   "source": [
    "# 1. HOW TO CREATE DATAFRAME"
   ]
  },
  {
   "cell_type": "code",
   "execution_count": 3,
   "id": "64ac42e3-989a-4100-b13d-603474947860",
   "metadata": {},
   "outputs": [
    {
     "name": "stdout",
     "output_type": "stream",
     "text": [
      "+------------+---------+------------+----------+----------------+--------------------+------+-------------+----------+\n",
      "|Acceleration|Cylinders|Displacement|Horsepower|Miles_per_Gallon|                Name|Origin|Weight_in_lbs|      Year|\n",
      "+------------+---------+------------+----------+----------------+--------------------+------+-------------+----------+\n",
      "|        12.0|        8|       307.0|       130|            18.0|chevrolet chevell...|   USA|         3504|      null|\n",
      "|        12.0|        8|       307.0|       130|            18.0|chevrolet chevell...|   USA|         3504|1970-01-01|\n",
      "|        11.5|        8|       350.0|       165|            15.0|   buick skylark 320|   USA|         3693|1970-01-01|\n",
      "|        11.0|        8|       318.0|       150|            18.0|  plymouth satellite|   USA|         3436|1970-01-01|\n",
      "|        12.0|        8|       304.0|       150|            16.0|       amc rebel sst|   USA|         3433|1970-01-01|\n",
      "|        10.5|        8|       302.0|       140|            17.0|         ford torino|   USA|         3449|1970-01-01|\n",
      "|        10.0|        8|       429.0|       198|            15.0|    ford galaxie 500|   USA|         4341|1970-01-01|\n",
      "|         9.0|        8|       454.0|       220|            14.0|    chevrolet impala|   USA|         4354|1970-01-01|\n",
      "|         8.5|        8|       440.0|       215|            14.0|   plymouth fury iii|   USA|         4312|1970-01-01|\n",
      "|        10.0|        8|       455.0|       225|            14.0|    pontiac catalina|   USA|         4425|1970-01-01|\n",
      "|         8.5|        8|       390.0|       190|            15.0|  amc ambassador dpl|   USA|         3850|1970-01-01|\n",
      "|        17.5|        4|       133.0|       115|            null|citroen ds-21 pallas|Europe|         3090|1970-01-01|\n",
      "|        11.5|        8|       350.0|       165|            null|chevrolet chevell...|   USA|         4142|1970-01-01|\n",
      "|        11.0|        8|       351.0|       153|            null|    ford torino (sw)|   USA|         4034|1970-01-01|\n",
      "|        10.5|        8|       383.0|       175|            null|plymouth satellit...|   USA|         4166|1970-01-01|\n",
      "|        11.0|        8|       360.0|       175|            null|  amc rebel sst (sw)|   USA|         3850|1970-01-01|\n",
      "|        10.0|        8|       383.0|       170|            15.0| dodge challenger se|   USA|         3563|1970-01-01|\n",
      "|         8.0|        8|       340.0|       160|            14.0|   plymouth cuda 340|   USA|         3609|1970-01-01|\n",
      "|         8.0|        8|       302.0|       140|            null|ford mustang boss...|   USA|         3353|1970-01-01|\n",
      "|         9.5|        8|       400.0|       150|            15.0|chevrolet monte c...|   USA|         3761|1970-01-01|\n",
      "+------------+---------+------------+----------+----------------+--------------------+------+-------------+----------+\n",
      "only showing top 20 rows\n",
      "\n",
      "root\n",
      " |-- Acceleration: double (nullable = true)\n",
      " |-- Cylinders: long (nullable = true)\n",
      " |-- Displacement: double (nullable = true)\n",
      " |-- Horsepower: long (nullable = true)\n",
      " |-- Miles_per_Gallon: double (nullable = true)\n",
      " |-- Name: string (nullable = true)\n",
      " |-- Origin: string (nullable = true)\n",
      " |-- Weight_in_lbs: long (nullable = true)\n",
      " |-- Year: string (nullable = true)\n",
      "\n"
     ]
    }
   ],
   "source": [
    "first_df = spark.read. \\\n",
    "    format(\"json\"). \\\n",
    "    option(\"inferSchema\", \"true\"). \\\n",
    "    load(\"data/cars\")\n",
    "\n",
    "first_df.show()\n",
    "first_df.printSchema()"
   ]
  },
  {
   "cell_type": "code",
   "execution_count": 3,
   "id": "6039e0b2-b7b4-4bda-89e3-e91548067604",
   "metadata": {},
   "outputs": [
    {
     "name": "stdout",
     "output_type": "stream",
     "text": [
      "+--------------------+------------+---------+------------+----------+----------------+------+-------------+----------+\n",
      "|                Name|Acceleration|Cylinders|Displacement|Horsepower|Miles_per_Gallon|Origin|Weight_in_lbs|      Year|\n",
      "+--------------------+------------+---------+------------+----------+----------------+------+-------------+----------+\n",
      "|chevrolet chevell...|        12.0|        8|       307.0|       130|            18.0|   USA|         3504|      null|\n",
      "|chevrolet chevell...|        12.0|        8|       307.0|       130|            18.0|   USA|         3504|1970-01-01|\n",
      "|   buick skylark 320|        11.5|        8|       350.0|       165|            15.0|   USA|         3693|1970-01-01|\n",
      "|  plymouth satellite|        11.0|        8|       318.0|       150|            18.0|   USA|         3436|1970-01-01|\n",
      "|       amc rebel sst|        12.0|        8|       304.0|       150|            16.0|   USA|         3433|1970-01-01|\n",
      "|         ford torino|        10.5|        8|       302.0|       140|            17.0|   USA|         3449|1970-01-01|\n",
      "|    ford galaxie 500|        10.0|        8|       429.0|       198|            15.0|   USA|         4341|1970-01-01|\n",
      "|    chevrolet impala|         9.0|        8|       454.0|       220|            14.0|   USA|         4354|1970-01-01|\n",
      "|   plymouth fury iii|         8.5|        8|       440.0|       215|            14.0|   USA|         4312|1970-01-01|\n",
      "|    pontiac catalina|        10.0|        8|       455.0|       225|            14.0|   USA|         4425|1970-01-01|\n",
      "|  amc ambassador dpl|         8.5|        8|       390.0|       190|            15.0|   USA|         3850|1970-01-01|\n",
      "|chevrolet chevell...|        11.5|        8|       350.0|       165|            null|   USA|         4142|1970-01-01|\n",
      "|    ford torino (sw)|        11.0|        8|       351.0|       153|            null|   USA|         4034|1970-01-01|\n",
      "|plymouth satellit...|        10.5|        8|       383.0|       175|            null|   USA|         4166|1970-01-01|\n",
      "|  amc rebel sst (sw)|        11.0|        8|       360.0|       175|            null|   USA|         3850|1970-01-01|\n",
      "| dodge challenger se|        10.0|        8|       383.0|       170|            15.0|   USA|         3563|1970-01-01|\n",
      "|   plymouth cuda 340|         8.0|        8|       340.0|       160|            14.0|   USA|         3609|1970-01-01|\n",
      "|ford mustang boss...|         8.0|        8|       302.0|       140|            null|   USA|         3353|1970-01-01|\n",
      "|chevrolet monte c...|         9.5|        8|       400.0|       150|            15.0|   USA|         3761|1970-01-01|\n",
      "|buick estate wago...|        10.0|        8|       455.0|       225|            14.0|   USA|         3086|1970-01-01|\n",
      "+--------------------+------------+---------+------------+----------+----------------+------+-------------+----------+\n",
      "only showing top 20 rows\n",
      "\n"
     ]
    }
   ],
   "source": [
    "# specify a schema manually\n",
    "cars_schema = StructType([\n",
    "    StructField(\"Name\", StringType()),\n",
    "    StructField(\"Acceleration\", DoubleType()),\n",
    "    StructField(\"Cylinders\", LongType()),\n",
    "    StructField(\"Displacement\", DoubleType()),\n",
    "    StructField(\"Horsepower\", IntegerType()),\n",
    "    StructField(\"Miles_per_Gallon\", DoubleType()),\n",
    "    StructField(\"Origin\", StringType()),\n",
    "    StructField(\"Weight_in_lbs\", LongType()),\n",
    "    StructField(\"Year\", StringType()),\n",
    "])\n",
    "\n",
    "# TODO - Int Type\n",
    "#!!!!!!!!!!! Very Important Warning Long Type vs IntType\n",
    "\n",
    "# reading a DF with a manual schema\n",
    "cars_df = spark.read. \\\n",
    "    format(\"json\"). \\\n",
    "    schema(cars_schema). \\\n",
    "    load(\"data/cars\")\n",
    "\n",
    "cars_df.filter(col(\"Cylinders\") > 7).show()"
   ]
  },
  {
   "cell_type": "code",
   "execution_count": 13,
   "id": "14d5f6b6-510c-4b98-b22c-88fe5aff6b54",
   "metadata": {},
   "outputs": [
    {
     "name": "stdout",
     "output_type": "stream",
     "text": [
      "root\n",
      " |-- Acceleration: double (nullable = true)\n",
      " |-- Cylinders: long (nullable = true)\n",
      " |-- Displacement: double (nullable = true)\n",
      " |-- Horsepower: long (nullable = true)\n",
      " |-- Miles_per_Gallon: double (nullable = true)\n",
      " |-- Name: string (nullable = true)\n",
      " |-- Origin: string (nullable = true)\n",
      " |-- Weight_in_lbs: long (nullable = true)\n",
      " |-- Year: string (nullable = true)\n",
      "\n",
      "root\n",
      " |-- Name: string (nullable = true)\n",
      " |-- Acceleration: double (nullable = true)\n",
      " |-- Cylinders: long (nullable = true)\n",
      " |-- Displacement: double (nullable = true)\n",
      " |-- Horsepower: integer (nullable = true)\n",
      " |-- Miles_per_Gallon: double (nullable = true)\n",
      " |-- Origin: string (nullable = true)\n",
      " |-- Weight_in_lbs: long (nullable = true)\n",
      " |-- Year: string (nullable = true)\n",
      "\n"
     ]
    },
    {
     "ename": "AssertionError",
     "evalue": "",
     "output_type": "error",
     "traceback": [
      "\u001b[0;31m---------------------------------------------------------------------------\u001b[0m",
      "\u001b[0;31mAssertionError\u001b[0m                            Traceback (most recent call last)",
      "Input \u001b[0;32mIn [13]\u001b[0m, in \u001b[0;36m<cell line: 21>\u001b[0;34m()\u001b[0m\n\u001b[1;32m     19\u001b[0m first_df_inferSchema\u001b[38;5;241m.\u001b[39mprintSchema()\n\u001b[1;32m     20\u001b[0m cars_df\u001b[38;5;241m.\u001b[39mprintSchema()\n\u001b[0;32m---> 21\u001b[0m \u001b[38;5;28;01massert\u001b[39;00m(first_df_inferSchema\u001b[38;5;241m.\u001b[39mschema \u001b[38;5;241m==\u001b[39m cars_df\u001b[38;5;241m.\u001b[39mschema)\n",
      "\u001b[0;31mAssertionError\u001b[0m: "
     ]
    }
   ],
   "source": [
    "# How to compare Data Frames\n",
    "\n",
    "# TODO\n",
    "# Parsed Plan = dont check fields, functions, expression\n",
    "# Analyzed plan =\n",
    "# Opt logical plan = 30-40 optimisations,\n",
    "# Physical plan =\n",
    "\n",
    "# Comparing\n",
    "#  1 ==> first_df == first_df_inferSchema\n",
    "#  2 ==> count1 union + distinct  first_df first_df_inferSchema, count1 = 10, count2 = 10,  count1 union (union all) + distinct = union = 20 or 10, antijoin\n",
    "#  3 ==>\n",
    "\n",
    "first_df_inferSchema = spark.read. \\\n",
    "    format(\"json\"). \\\n",
    "    option(\"inferSchema\", \"true\"). \\\n",
    "    load(\"data/cars\")\n",
    "\n",
    "first_df_inferSchema.printSchema()\n",
    "cars_df.printSchema()\n",
    "assert(first_df_inferSchema.schema == cars_df.schema)"
   ]
  },
  {
   "cell_type": "markdown",
   "id": "50d8a1d3-8873-4f34-a089-92992207835d",
   "metadata": {},
   "source": [
    "# 3. Catalyst Optimiser = Logical Plans + Codegeneration"
   ]
  },
  {
   "cell_type": "code",
   "execution_count": 5,
   "id": "10ca017f-2e28-4d75-bd1d-859cbd049be8",
   "metadata": {},
   "outputs": [
    {
     "name": "stdout",
     "output_type": "stream",
     "text": [
      "== Parsed Logical Plan ==\n",
      "Sort [Horsepower#4 DESC NULLS LAST, Acceleration#1 ASC NULLS FIRST], true\n",
      "+- Project [Name#0, Acceleration#1, Cylinders#2L, Displacement#3, Horsepower#4, Miles_per_Gallon#5, Origin#6, Weight_in_lbs#7L, Year#8, (Acceleration#1 + cast(10 as double)) AS new#125]\n",
      "   +- Filter (Cylinders#2L > cast(4 as bigint))\n",
      "      +- Relation [Name#0,Acceleration#1,Cylinders#2L,Displacement#3,Horsepower#4,Miles_per_Gallon#5,Origin#6,Weight_in_lbs#7L,Year#8] json\n",
      "\n",
      "== Analyzed Logical Plan ==\n",
      "Name: string, Acceleration: double, Cylinders: bigint, Displacement: double, Horsepower: int, Miles_per_Gallon: double, Origin: string, Weight_in_lbs: bigint, Year: string, new: double\n",
      "Sort [Horsepower#4 DESC NULLS LAST, Acceleration#1 ASC NULLS FIRST], true\n",
      "+- Project [Name#0, Acceleration#1, Cylinders#2L, Displacement#3, Horsepower#4, Miles_per_Gallon#5, Origin#6, Weight_in_lbs#7L, Year#8, (Acceleration#1 + cast(10 as double)) AS new#125]\n",
      "   +- Filter (Cylinders#2L > cast(4 as bigint))\n",
      "      +- Relation [Name#0,Acceleration#1,Cylinders#2L,Displacement#3,Horsepower#4,Miles_per_Gallon#5,Origin#6,Weight_in_lbs#7L,Year#8] json\n",
      "\n",
      "== Optimized Logical Plan ==\n",
      "Sort [Horsepower#4 DESC NULLS LAST, Acceleration#1 ASC NULLS FIRST], true\n",
      "+- Project [Name#0, Acceleration#1, Cylinders#2L, Displacement#3, Horsepower#4, Miles_per_Gallon#5, Origin#6, Weight_in_lbs#7L, Year#8, (Acceleration#1 + 10.0) AS new#125]\n",
      "   +- Filter (isnotnull(Cylinders#2L) AND (Cylinders#2L > 4))\n",
      "      +- Relation [Name#0,Acceleration#1,Cylinders#2L,Displacement#3,Horsepower#4,Miles_per_Gallon#5,Origin#6,Weight_in_lbs#7L,Year#8] json\n",
      "\n",
      "== Physical Plan ==\n",
      "AdaptiveSparkPlan isFinalPlan=false\n",
      "+- Sort [Horsepower#4 DESC NULLS LAST, Acceleration#1 ASC NULLS FIRST], true, 0\n",
      "   +- Exchange rangepartitioning(Horsepower#4 DESC NULLS LAST, Acceleration#1 ASC NULLS FIRST, 200), ENSURE_REQUIREMENTS, [id=#56]\n",
      "      +- Project [Name#0, Acceleration#1, Cylinders#2L, Displacement#3, Horsepower#4, Miles_per_Gallon#5, Origin#6, Weight_in_lbs#7L, Year#8, (Acceleration#1 + 10.0) AS new#125]\n",
      "         +- Filter (isnotnull(Cylinders#2L) AND (Cylinders#2L > 4))\n",
      "            +- FileScan json [Name#0,Acceleration#1,Cylinders#2L,Displacement#3,Horsepower#4,Miles_per_Gallon#5,Origin#6,Weight_in_lbs#7L,Year#8] Batched: false, DataFilters: [isnotnull(Cylinders#2L), (Cylinders#2L > 4)], Format: JSON, Location: InMemoryFileIndex(1 paths)[file:/home/jovyan/notebooks/data/cars], PartitionFilters: [], PushedFilters: [IsNotNull(Cylinders), GreaterThan(Cylinders,4)], ReadSchema: struct<Name:string,Acceleration:double,Cylinders:bigint,Displacement:double,Horsepower:int,Miles_...\n",
      "\n",
      "+--------------------+------------+---------+------------+----------+----------------+------+-------------+----------+----+\n",
      "|                Name|Acceleration|Cylinders|Displacement|Horsepower|Miles_per_Gallon|Origin|Weight_in_lbs|      Year| new|\n",
      "+--------------------+------------+---------+------------+----------+----------------+------+-------------+----------+----+\n",
      "|  pontiac grand prix|         9.5|        8|       400.0|       230|            16.0|   USA|         4278|1973-01-01|19.5|\n",
      "|buick estate wago...|        10.0|        8|       455.0|       225|            14.0|   USA|         3086|1970-01-01|20.0|\n",
      "|    pontiac catalina|        10.0|        8|       455.0|       225|            14.0|   USA|         4425|1970-01-01|20.0|\n",
      "|buick electra 225...|        11.0|        8|       455.0|       225|            12.0|   USA|         4951|1973-01-01|21.0|\n",
      "|    chevrolet impala|         9.0|        8|       454.0|       220|            14.0|   USA|         4354|1970-01-01|19.0|\n",
      "|   plymouth fury iii|         8.5|        8|       440.0|       215|            14.0|   USA|         4312|1970-01-01|18.5|\n",
      "|chrysler new york...|        11.0|        8|       440.0|       215|            13.0|   USA|         4735|1973-01-01|21.0|\n",
      "|           ford f250|        14.0|        8|       360.0|       215|            10.0|   USA|         4615|1970-01-01|24.0|\n",
      "|          dodge d200|        13.5|        8|       318.0|       210|            11.0|   USA|         4382|1970-01-01|23.5|\n",
      "|     mercury marquis|        11.0|        8|       429.0|       208|            11.0|   USA|         4633|1972-01-01|21.0|\n",
      "|           chevy c20|        15.0|        8|       307.0|       200|            10.0|   USA|         4376|1970-01-01|25.0|\n",
      "|    ford galaxie 500|        10.0|        8|       429.0|       198|            15.0|   USA|         4341|1970-01-01|20.0|\n",
      "|mercury marquis b...|        11.5|        8|       429.0|       198|            12.0|   USA|         4952|1973-01-01|21.5|\n",
      "|            hi 1200d|        18.5|        8|       304.0|       193|             9.0|   USA|         4732|1970-01-01|28.5|\n",
      "|  amc ambassador dpl|         8.5|        8|       390.0|       190|            15.0|   USA|         3850|1970-01-01|18.5|\n",
      "|    chrysler cordoba|        12.2|        8|       400.0|       190|            15.5|   USA|         4325|1977-01-01|22.2|\n",
      "|chrysler newport ...|        12.5|        8|       400.0|       190|            13.0|   USA|         4422|1972-01-01|22.5|\n",
      "|    oldsmobile omega|        11.0|        8|       350.0|       180|            11.0|   USA|         3664|1973-01-01|21.0|\n",
      "|pontiac grand pri...|        11.1|        8|       400.0|       180|            16.0|   USA|         4220|1977-01-01|21.1|\n",
      "|   dodge monaco (sw)|        11.5|        8|       383.0|       180|            12.0|   USA|         4955|1971-01-01|21.5|\n",
      "+--------------------+------------+---------+------------+----------+----------------+------+-------------+----------+----+\n",
      "only showing top 20 rows\n",
      "\n"
     ]
    }
   ],
   "source": [
    "#  DAG => Parsed Plan => Analyzed plan => Opt plan => Physical plan => Codegeneration\n",
    "# Logical Plans\n",
    "# Parsed Plan\n",
    "# Analyzed plan\n",
    "# Opt plan\n",
    "\n",
    "most_powered_df = cars_df. \\\n",
    "    where(cars_df.Cylinders > 4). \\\n",
    "    withColumn(\"new\", expr(\"Acceleration + 10\")). \\\n",
    "    sort(cars_df.Horsepower.desc(), cars_df.Acceleration.asc())\n",
    "\n",
    "most_powered_df.explain(True)\n",
    "\n",
    "most_powered_df.show()\n",
    "\n",
    "# WORKS ONLY IN SCALA\n",
    "# most_powered_df.queryExecution().debug().codegen()"
   ]
  },
  {
   "cell_type": "code",
   "execution_count": null,
   "id": "8c5178be-9c25-4f20-a7bc-67b2e106465c",
   "metadata": {},
   "outputs": [],
   "source": []
  }
 ],
 "metadata": {
  "kernelspec": {
   "display_name": "Python 3 (ipykernel)",
   "language": "python",
   "name": "python3"
  },
  "language_info": {
   "codemirror_mode": {
    "name": "ipython",
    "version": 3
   },
   "file_extension": ".py",
   "mimetype": "text/x-python",
   "name": "python",
   "nbconvert_exporter": "python",
   "pygments_lexer": "ipython3",
   "version": "3.9.10"
  }
 },
 "nbformat": 4,
 "nbformat_minor": 5
}
