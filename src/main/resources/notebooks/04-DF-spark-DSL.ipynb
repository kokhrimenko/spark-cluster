{
 "cells": [
  {
   "cell_type": "code",
   "execution_count": 1,
   "id": "aacec94e-2cf5-4b91-8231-86ea13922c2a",
   "metadata": {},
   "outputs": [],
   "source": [
    "from time import sleep\n",
    "\n",
    "from pyspark.sql import SparkSession\n",
    "from pyspark.sql.functions import *\n",
    "from pyspark.sql import functions as F\n"
   ]
  },
  {
   "cell_type": "code",
   "execution_count": 2,
   "id": "71586f21-0b79-44dd-9828-0dc2c5a627f1",
   "metadata": {},
   "outputs": [],
   "source": [
    "spark = SparkSession. \\\n",
    "    builder. \\\n",
    "    appName(\"Data Sources\"). \\\n",
    "    master(\"local\"). \\\n",
    "    config(\"spark.jars\", \"../jars/postgresql-42.2.19.jar\"). \\\n",
    "    config(\"spark.sql.legacy.timeParserPolicy\", \"LEGACY\"). \\\n",
    "    config(\"spark.sql.autoBroadcastJoinThreshold\", -1). \\\n",
    "    getOrCreate()"
   ]
  },
  {
   "cell_type": "code",
   "execution_count": 5,
   "id": "7df25b9b-2893-4e10-b8b8-44fec234c643",
   "metadata": {},
   "outputs": [],
   "source": [
    "movies_df = spark.read.json(\"data/movies\")"
   ]
  },
  {
   "cell_type": "code",
   "execution_count": null,
   "id": "6e129b04-246a-4663-ac8a-5f0da1e01ac1",
   "metadata": {},
   "outputs": [],
   "source": [
    "# aggregations"
   ]
  },
  {
   "cell_type": "code",
   "execution_count": 4,
   "id": "0332ed68-5c57-4f5b-a122-4faded0c9f00",
   "metadata": {},
   "outputs": [
    {
     "name": "stdout",
     "output_type": "stream",
     "text": [
      "SIMPLE COUNT\n",
      "+------------------+\n",
      "|count(Major_Genre)|\n",
      "+------------------+\n",
      "|              2926|\n",
      "+------------------+\n",
      "\n",
      "== Physical Plan ==\n",
      "AdaptiveSparkPlan isFinalPlan=false\n",
      "+- HashAggregate(keys=[], functions=[count(Major_Genre#13)])\n",
      "   +- Exchange SinglePartition, ENSURE_REQUIREMENTS, [id=#46]\n",
      "      +- HashAggregate(keys=[], functions=[partial_count(Major_Genre#13)])\n",
      "         +- FileScan json [Major_Genre#13] Batched: false, DataFilters: [], Format: JSON, Location: InMemoryFileIndex(1 paths)[file:/home/jovyan/notebooks/data/movies], PartitionFilters: [], PushedFilters: [], ReadSchema: struct<Major_Genre:string>\n",
      "\n",
      "\n"
     ]
    }
   ],
   "source": [
    "# counting\n",
    "all_movies_count_df = movies_df.selectExpr(\"count(Major_Genre)\")\n",
    "print(\"SIMPLE COUNT\")\n",
    "all_movies_count_df.show()\n",
    "all_movies_count_df.explain()"
   ]
  },
  {
   "cell_type": "code",
   "execution_count": 6,
   "id": "e72fadd1-d2cf-4623-b456-3efc77adf518",
   "metadata": {
    "tags": []
   },
   "outputs": [
    {
     "name": "stdout",
     "output_type": "stream",
     "text": [
      "SIMPLE COUNT Genre\n",
      "+------------------+\n",
      "|count(Major_Genre)|\n",
      "+------------------+\n",
      "|              2926|\n",
      "+------------------+\n",
      "\n",
      "== Physical Plan ==\n",
      "AdaptiveSparkPlan isFinalPlan=false\n",
      "+- HashAggregate(keys=[], functions=[count(Major_Genre#65)])\n",
      "   +- Exchange SinglePartition, ENSURE_REQUIREMENTS, [id=#94]\n",
      "      +- HashAggregate(keys=[], functions=[partial_count(Major_Genre#65)])\n",
      "         +- FileScan json [Major_Genre#65] Batched: false, DataFilters: [], Format: JSON, Location: InMemoryFileIndex(1 paths)[file:/home/jovyan/notebooks/data/movies], PartitionFilters: [], PushedFilters: [], ReadSchema: struct<Major_Genre:string>\n",
      "\n",
      "\n"
     ]
    }
   ],
   "source": [
    " # null not included\n",
    "genres_count_df = movies_df.select(count(col(\"Major_Genre\")))\n",
    "print(\"SIMPLE COUNT Genre\")\n",
    "genres_count_df.show()\n",
    "genres_count_df.explain()\n"
   ]
  },
  {
   "cell_type": "code",
   "execution_count": 7,
   "id": "4a6c6479-ec1a-4fe3-9775-b87bfa8259a3",
   "metadata": {},
   "outputs": [
    {
     "name": "stdout",
     "output_type": "stream",
     "text": [
      "SIMPLE COUNT Genre\n",
      "+------------------+\n",
      "|count(Major_Genre)|\n",
      "+------------------+\n",
      "|              2926|\n",
      "+------------------+\n",
      "\n",
      "== Physical Plan ==\n",
      "AdaptiveSparkPlan isFinalPlan=false\n",
      "+- HashAggregate(keys=[], functions=[count(Major_Genre#65)])\n",
      "   +- Exchange SinglePartition, ENSURE_REQUIREMENTS, [id=#139]\n",
      "      +- HashAggregate(keys=[], functions=[partial_count(Major_Genre#65)])\n",
      "         +- FileScan json [Major_Genre#65] Batched: false, DataFilters: [], Format: JSON, Location: InMemoryFileIndex(1 paths)[file:/home/jovyan/notebooks/data/movies], PartitionFilters: [], PushedFilters: [], ReadSchema: struct<Major_Genre:string>\n",
      "\n",
      "\n"
     ]
    }
   ],
   "source": [
    " # null not included\n",
    "genres_count_df = movies_df.select(count(col(\"Major_Genre\")))\n",
    "print(\"SIMPLE COUNT Genre\")\n",
    "genres_count_df.show()\n",
    "genres_count_df.explain()"
   ]
  },
  {
   "cell_type": "code",
   "execution_count": 8,
   "id": "bc839f6e-a5e9-461a-a86c-bafd543bf8e7",
   "metadata": {},
   "outputs": [
    {
     "name": "stdout",
     "output_type": "stream",
     "text": [
      "SIMPLE COUNT Genre Expr\n",
      "+--------+\n",
      "|count(1)|\n",
      "+--------+\n",
      "|    3201|\n",
      "+--------+\n",
      "\n"
     ]
    }
   ],
   "source": [
    "# null included\n",
    "genres_count_df_v2 = movies_df.selectExpr(\"count(*)\")\n",
    "print(\"SIMPLE COUNT Genre Expr\")\n",
    "genres_count_df_v2.show()"
   ]
  },
  {
   "cell_type": "code",
   "execution_count": 9,
   "id": "70d9c9a5-bda2-480e-9a6b-1d3253b0713c",
   "metadata": {},
   "outputs": [
    {
     "name": "stdout",
     "output_type": "stream",
     "text": [
      "SIMPLE COUNT Genre Expr\n",
      "+--------+\n",
      "|count(1)|\n",
      "+--------+\n",
      "|    3201|\n",
      "+--------+\n",
      "\n"
     ]
    }
   ],
   "source": [
    "# null included\n",
    "\n",
    "genres_count_df_v2 = movies_df.selectExpr(\"count(*)\")\n",
    "print(\"SIMPLE COUNT Genre Expr\")\n",
    "genres_count_df_v2.show()\n"
   ]
  },
  {
   "cell_type": "code",
   "execution_count": 11,
   "id": "ad58e537-e6dc-4fc6-9ec9-2d1ec42ba553",
   "metadata": {},
   "outputs": [
    {
     "name": "stdout",
     "output_type": "stream",
     "text": [
      "SIMPLE COUNT Genre wit select\n",
      "3201\n"
     ]
    }
   ],
   "source": [
    " # null included  .count() is Action\n",
    "genres_count_number = movies_df.select(\"Major_Genre\").count()\n",
    "print(\"SIMPLE COUNT Genre wit select\")\n",
    "print(genres_count_number)"
   ]
  },
  {
   "cell_type": "code",
   "execution_count": 13,
   "id": "37d8dc73-1909-41d5-b980-cc0bea43b86a",
   "metadata": {},
   "outputs": [
    {
     "name": "stdout",
     "output_type": "stream",
     "text": [
      "COUNT DISTINCT Genre wit select\n",
      "+---------------------------+\n",
      "|count(DISTINCT Major_Genre)|\n",
      "+---------------------------+\n",
      "|                         12|\n",
      "+---------------------------+\n",
      "\n"
     ]
    }
   ],
   "source": [
    "# count distinct \n",
    "unique_genres_df = movies_df.select(F.countDistinct(F.col(\"Major_Genre\")))\n",
    "print(\"COUNT DISTINCT Genre wit select\")\n",
    "unique_genres_df.show()"
   ]
  },
  {
   "cell_type": "code",
   "execution_count": 14,
   "id": "c3dd95ca-4743-40b2-a7c2-a822be7b5986",
   "metadata": {},
   "outputs": [
    {
     "name": "stdout",
     "output_type": "stream",
     "text": [
      "COUNT DISTINCT Genre with Expression\n",
      "+---------------------------+\n",
      "|count(DISTINCT Major_Genre)|\n",
      "+---------------------------+\n",
      "|                         12|\n",
      "+---------------------------+\n",
      "\n"
     ]
    }
   ],
   "source": [
    "unique_genres_df_v2 = movies_df.selectExpr(\"count(DISTINCT Major_Genre)\")\n",
    "print(\"COUNT DISTINCT Genre with Expression\")\n",
    "unique_genres_df_v2.show()\n"
   ]
  },
  {
   "cell_type": "markdown",
   "id": "67ec158e-c0e1-4f6d-b748-97eebf9bef31",
   "metadata": {},
   "source": [
    "# math aggregations"
   ]
  },
  {
   "cell_type": "code",
   "execution_count": 15,
   "id": "2733902f-eecd-443b-b232-3bcfe589a117",
   "metadata": {},
   "outputs": [
    {
     "name": "stdout",
     "output_type": "stream",
     "text": [
      "max IMDB_Rating with functions\n",
      "+------------------------+\n",
      "|max value of IMDB Rating|\n",
      "+------------------------+\n",
      "|                     9.2|\n",
      "+------------------------+\n",
      "\n",
      "max IMDB_Rating with Expression\n",
      "+----------------+\n",
      "|min(IMDB_Rating)|\n",
      "+----------------+\n",
      "|             1.4|\n",
      "+----------------+\n",
      "\n"
     ]
    }
   ],
   "source": [
    "# min/max\n",
    "max_rating_df = movies_df.select(max(col(\"IMDB_Rating\")).alias(\"max value of IMDB Rating\"))\n",
    "print(\"max IMDB_Rating with functions\")\n",
    "max_rating_df.show()\n",
    "\n",
    "max_rating_df_v2 = movies_df.selectExpr(\"min(IMDB_Rating)\").alias(\"mix value of IMDB Rating\")\n",
    "print(\"max IMDB_Rating with Expression\")\n",
    "max_rating_df_v2.show()\n"
   ]
  },
  {
   "cell_type": "code",
   "execution_count": 16,
   "id": "f4a9795c-8eb6-4d07-9f96-90dc7306f9ab",
   "metadata": {},
   "outputs": [
    {
     "name": "stdout",
     "output_type": "stream",
     "text": [
      "sum US_Gross\n",
      "+-------------+\n",
      "|sum(US_Gross)|\n",
      "+-------------+\n",
      "| 140542660013|\n",
      "+-------------+\n",
      "\n",
      "sum US_Gross Expr\n",
      "+-------------+\n",
      "|sum(US_Gross)|\n",
      "+-------------+\n",
      "| 140542660013|\n",
      "+-------------+\n",
      "\n"
     ]
    }
   ],
   "source": [
    "# sum values in a column\n",
    "us_industry_total_df = movies_df.select(sum(col(\"US_Gross\")))\n",
    "print(\"sum US_Gross\")\n",
    "us_industry_total_df.show()\n",
    "\n",
    "us_industry_total_df_v2 = movies_df.selectExpr(\"sum(US_Gross)\")\n",
    "print(\"sum US_Gross Expr\")\n",
    "us_industry_total_df_v2.show()\n"
   ]
  },
  {
   "cell_type": "code",
   "execution_count": 17,
   "id": "f86f5a56-eb8a-4569-9a80-3fe93e5689f4",
   "metadata": {},
   "outputs": [
    {
     "name": "stdout",
     "output_type": "stream",
     "text": [
      "avg Rotten_Tomatoes_Rating\n",
      "+---------------------------+\n",
      "|avg(Rotten_Tomatoes_Rating)|\n",
      "+---------------------------+\n",
      "|          54.33692373976734|\n",
      "+---------------------------+\n",
      "\n"
     ]
    }
   ],
   "source": [
    "# avg\n",
    "avg_rt_rating_df = movies_df.select(avg(col(\"Rotten_Tomatoes_Rating\")))\n",
    "print(\"avg Rotten_Tomatoes_Rating\")\n",
    "avg_rt_rating_df.show()\n"
   ]
  },
  {
   "cell_type": "code",
   "execution_count": 18,
   "id": "a45b06a9-8a07-4e34-af51-c10248470bcf",
   "metadata": {},
   "outputs": [
    {
     "name": "stdout",
     "output_type": "stream",
     "text": [
      "mean/standard dev\n",
      "+---------------------------+-----------------------------------+\n",
      "|avg(Rotten_Tomatoes_Rating)|stddev_samp(Rotten_Tomatoes_Rating)|\n",
      "+---------------------------+-----------------------------------+\n",
      "|          54.33692373976734|                  28.07659263787602|\n",
      "+---------------------------+-----------------------------------+\n",
      "\n"
     ]
    }
   ],
   "source": [
    "# mean/standard dev\n",
    "rt_stats_df = movies_df.agg(\n",
    "    mean(col(\"Rotten_Tomatoes_Rating\")),\n",
    "    stddev(col(\"Rotten_Tomatoes_Rating\"))\n",
    ")\n",
    "print(\"mean/standard dev\")\n",
    "rt_stats_df.show()\n"
   ]
  },
  {
   "cell_type": "markdown",
   "id": "0792bcc0-89b3-41d9-bba0-371994a88f54",
   "metadata": {},
   "source": [
    "# Grouping"
   ]
  },
  {
   "cell_type": "code",
   "execution_count": 19,
   "id": "8e4a23a7-2e0c-402c-ac13-42400e7c14f3",
   "metadata": {},
   "outputs": [
    {
     "name": "stdout",
     "output_type": "stream",
     "text": [
      "count group by dev\n",
      "+-------------------+-----+\n",
      "|        Major_Genre|count|\n",
      "+-------------------+-----+\n",
      "|          Adventure|  274|\n",
      "|               null|  275|\n",
      "|              Drama|  789|\n",
      "|        Documentary|   43|\n",
      "|       Black Comedy|   36|\n",
      "|  Thriller/Suspense|  239|\n",
      "|            Musical|   53|\n",
      "|    Romantic Comedy|  137|\n",
      "|Concert/Performance|    5|\n",
      "|             Horror|  219|\n",
      "|            Western|   36|\n",
      "|             Comedy|  675|\n",
      "|             Action|  420|\n",
      "+-------------------+-----+\n",
      "\n",
      "== Physical Plan ==\n",
      "AdaptiveSparkPlan isFinalPlan=false\n",
      "+- HashAggregate(keys=[Major_Genre#65], functions=[count(1)])\n",
      "   +- Exchange hashpartitioning(Major_Genre#65, 200), ENSURE_REQUIREMENTS, [id=#663]\n",
      "      +- HashAggregate(keys=[Major_Genre#65], functions=[partial_count(1)])\n",
      "         +- FileScan json [Major_Genre#65] Batched: false, DataFilters: [], Format: JSON, Location: InMemoryFileIndex(1 paths)[file:/home/jovyan/notebooks/data/movies], PartitionFilters: [], PushedFilters: [], ReadSchema: struct<Major_Genre:string>\n",
      "\n",
      "\n",
      "avg group by dev\n",
      "+-------------------+------------------+\n",
      "|        Major_Genre|  avg(IMDB_Rating)|\n",
      "+-------------------+------------------+\n",
      "|          Adventure| 6.345019920318729|\n",
      "|               null|  6.50082644628099|\n",
      "|              Drama| 6.773441734417339|\n",
      "|        Documentary| 6.997297297297298|\n",
      "|       Black Comedy|6.8187500000000005|\n",
      "|  Thriller/Suspense| 6.360944206008582|\n",
      "|            Musical|             6.448|\n",
      "|    Romantic Comedy| 5.873076923076922|\n",
      "|Concert/Performance|             6.325|\n",
      "|             Horror|5.6760765550239185|\n",
      "|            Western| 6.842857142857142|\n",
      "|             Comedy| 5.853858267716529|\n",
      "|             Action| 6.114795918367349|\n",
      "+-------------------+------------------+\n",
      "\n",
      "== Physical Plan ==\n",
      "AdaptiveSparkPlan isFinalPlan=false\n",
      "+- HashAggregate(keys=[Major_Genre#65], functions=[avg(IMDB_Rating#62)])\n",
      "   +- Exchange hashpartitioning(Major_Genre#65, 200), ENSURE_REQUIREMENTS, [id=#721]\n",
      "      +- HashAggregate(keys=[Major_Genre#65], functions=[partial_avg(IMDB_Rating#62)])\n",
      "         +- FileScan json [IMDB_Rating#62,Major_Genre#65] Batched: false, DataFilters: [], Format: JSON, Location: InMemoryFileIndex(1 paths)[file:/home/jovyan/notebooks/data/movies], PartitionFilters: [], PushedFilters: [], ReadSchema: struct<IMDB_Rating:double,Major_Genre:string>\n",
      "\n",
      "\n"
     ]
    }
   ],
   "source": [
    "# nulls are also considered\n",
    "count_by_genre_df = movies_df. \\\n",
    "    groupBy(col(\"Major_Genre\")). \\\n",
    "    count()\n",
    "print(\"count group by dev\")\n",
    "count_by_genre_df.show()\n",
    "count_by_genre_df.explain()"
   ]
  },
  {
   "cell_type": "code",
   "execution_count": 21,
   "id": "58bb5037-06ca-4fd9-958c-efc19e55c331",
   "metadata": {},
   "outputs": [
    {
     "name": "stdout",
     "output_type": "stream",
     "text": [
      "avg group by dev\n",
      "+-------------------+------------------+\n",
      "|        Major_Genre|  avg(IMDB_Rating)|\n",
      "+-------------------+------------------+\n",
      "|          Adventure| 6.345019920318729|\n",
      "|               null|  6.50082644628099|\n",
      "|              Drama| 6.773441734417339|\n",
      "|        Documentary| 6.997297297297298|\n",
      "|       Black Comedy|6.8187500000000005|\n",
      "|  Thriller/Suspense| 6.360944206008582|\n",
      "|            Musical|             6.448|\n",
      "|    Romantic Comedy| 5.873076923076922|\n",
      "|Concert/Performance|             6.325|\n",
      "|             Horror|5.6760765550239185|\n",
      "|            Western| 6.842857142857142|\n",
      "|             Comedy| 5.853858267716529|\n",
      "|             Action| 6.114795918367349|\n",
      "+-------------------+------------------+\n",
      "\n",
      "== Physical Plan ==\n",
      "AdaptiveSparkPlan isFinalPlan=false\n",
      "+- HashAggregate(keys=[Major_Genre#65], functions=[avg(IMDB_Rating#62)])\n",
      "   +- Exchange hashpartitioning(Major_Genre#65, 200), ENSURE_REQUIREMENTS, [id=#837]\n",
      "      +- HashAggregate(keys=[Major_Genre#65], functions=[partial_avg(IMDB_Rating#62)])\n",
      "         +- FileScan json [IMDB_Rating#62,Major_Genre#65] Batched: false, DataFilters: [], Format: JSON, Location: InMemoryFileIndex(1 paths)[file:/home/jovyan/notebooks/data/movies], PartitionFilters: [], PushedFilters: [], ReadSchema: struct<IMDB_Rating:double,Major_Genre:string>\n",
      "\n",
      "\n"
     ]
    }
   ],
   "source": [
    "# Grouping and counting\n",
    "avg_rating_by_genre_df = movies_df. \\\n",
    "    groupBy(col(\"Major_Genre\")). \\\n",
    "    avg(\"IMDB_Rating\")\n",
    "print(\"avg group by dev\")\n",
    "avg_rating_by_genre_df.show()\n",
    "avg_rating_by_genre_df.explain()\n"
   ]
  },
  {
   "cell_type": "code",
   "execution_count": 22,
   "id": "5e530c05-4533-4029-b948-ef7289d16fa5",
   "metadata": {},
   "outputs": [
    {
     "name": "stdout",
     "output_type": "stream",
     "text": [
      "+-------------------+--------+------------------+\n",
      "|        Major_Genre|N_Movies|        Avg_Rating|\n",
      "+-------------------+--------+------------------+\n",
      "|          Adventure|     274| 6.345019920318729|\n",
      "|               null|     275|  6.50082644628099|\n",
      "|              Drama|     789| 6.773441734417339|\n",
      "|        Documentary|      43| 6.997297297297298|\n",
      "|       Black Comedy|      36|6.8187500000000005|\n",
      "|  Thriller/Suspense|     239| 6.360944206008582|\n",
      "|            Musical|      53|             6.448|\n",
      "|    Romantic Comedy|     137| 5.873076923076922|\n",
      "|Concert/Performance|       5|             6.325|\n",
      "|             Horror|     219|5.6760765550239185|\n",
      "|            Western|      36| 6.842857142857142|\n",
      "|             Comedy|     675| 5.853858267716529|\n",
      "|             Action|     420| 6.114795918367349|\n",
      "+-------------------+--------+------------------+\n",
      "\n"
     ]
    }
   ],
   "source": [
    "# multiple aggregations\n",
    "aggregations_by_genre_df = movies_df. \\\n",
    "    groupBy(col(\"Major_Genre\")). \\\n",
    "    agg(\n",
    "    # use strings here for column names\n",
    "    count(\"*\").alias(\"N_Movies\"),\n",
    "    avg(\"IMDB_Rating\").alias(\"Avg_Rating\")\n",
    ")\n",
    "aggregations_by_genre_df.show()\n"
   ]
  },
  {
   "cell_type": "code",
   "execution_count": 24,
   "id": "b36bc314-426e-48e7-85fc-230ac9136d45",
   "metadata": {},
   "outputs": [
    {
     "name": "stdout",
     "output_type": "stream",
     "text": [
      "+--------------------+--------------------+--------------------+-----------+----------+-----------+-----------------+-----------------+------------+----------------------+----------------+--------------------+--------------------+------------+---------+---------------+\n",
      "|       Creative_Type|            Director|         Distributor|IMDB_Rating|IMDB_Votes|MPAA_Rating|      Major_Genre|Production_Budget|Release_Date|Rotten_Tomatoes_Rating|Running_Time_min|              Source|               Title|US_DVD_Sales| US_Gross|Worldwide_Gross|\n",
      "+--------------------+--------------------+--------------------+-----------+----------+-----------+-----------------+-----------------+------------+----------------------+----------------+--------------------+--------------------+------------+---------+---------------+\n",
      "|  Historical Fiction|Francis Ford Coppola|  Paramount Pictures|        9.2|    411088|       null|             null|          7000000|   15-Mar-72|                   100|            null|                null|       The Godfather|        null|134966411|      268500000|\n",
      "|  Historical Fiction|      Frank Darabont|       Sony Pictures|        9.2|    519541|          R|            Drama|         25000000|   23-Sep-94|                    88|            null|Based on Book/Sho...|The Shawshank Red...|        null| 28241469|       28241469|\n",
      "|     Science Fiction|   Christopher Nolan|        Warner Bros.|        9.1|    188247|      PG-13|Thriller/Suspense|        160000000|   16-Jul-10|                    87|             147| Original Screenplay|           Inception|        null|285630280|      753830280|\n",
      "|  Historical Fiction|Francis Ford Coppola|  Paramount Pictures|        9.0|    245271|       null|             null|         13000000|   11-Dec-74|                  null|            null|                null|The Godfather: Pa...|        null| 57300000|       57300000|\n",
      "|                null|        Sidney Lumet|      United Artists|        8.9|    119101|       null|            Drama|           340000|   13-Apr-57|                  null|            null| Original Screenplay|        12 Angry Men|        null|        0|              0|\n",
      "|        Kids Fiction|                null|Walt Disney Pictures|        8.9|     67380|          G|        Adventure|        200000000|   18-Jun-10|                    99|             102| Original Screenplay|         Toy Story 3|        null|410640665|     1046340665|\n",
      "|                null|        Milos Forman|                 MGM|        8.9|    214457|       null|             null|          4400000|   19-Nov-75|                    96|            null|Based on Book/Sho...|One Flew Over the...|        null|108981275|      108981275|\n",
      "|Contemporary Fiction|   Quentin Tarantino|             Miramax|        8.9|    417703|          R|            Drama|          8000000|   14-Oct-94|                    94|            null| Original Screenplay|        Pulp Fiction|        null|107928762|      212928762|\n",
      "|          Super Hero|   Christopher Nolan|        Warner Bros.|        8.9|    465000|      PG-13|           Action|        185000000|   18-Jul-08|                    93|             152|Based on Comic/Gr...|     The Dark Knight|   234119058|533345358|     1022345358|\n",
      "|       Dramatization|    Steven Spielberg|           Universal|        8.9|    276283|          R|            Drama|         25000000|   15-Dec-93|                    97|            null|Based on Real Lif...|    Schindler's List|        null| 96067179|      321200000|\n",
      "|  Historical Fiction|        Sergio Leone|  Paramount Pictures|        8.8|     74184|      PG-13|          Western|          5000000|   28-May-69|                  null|            null| Original Screenplay|C'era una volta i...|        null|  5321508|        5321508|\n",
      "|Contemporary Fiction|       David Fincher|    20th Century Fox|        8.8|    382470|          R|            Drama|         65000000|   15-Oct-99|                    81|             139|Based on Book/Sho...|          Fight Club|        null| 37030102|      100853753|\n",
      "|       Dramatization|     Martin Scorsese|        Warner Bros.|        8.8|    229156|       null|            Drama|         25000000|   19-Sep-90|                    97|            null|Based on Book/Sho...|          Goodfellas|        null| 46743809|       46743809|\n",
      "|  Historical Fiction|      Akira Kurosawa|     Cowboy Pictures|        8.8|     96698|       null|           Action|           500000|   19-Nov-56|                  null|            null| Original Screenplay|Shichinin no samurai|        null|   271736|         271736|\n",
      "|             Fantasy|       Peter Jackson|            New Line|        8.8|    364077|      PG-13|        Adventure|         94000000|   17-Dec-03|                  null|             201|Based on Book/Sho...|The Lord of the R...|        null|377027325|     1133027325|\n",
      "|  Historical Fiction|      Michael Curtiz|        Warner Bros.|        8.8|    167939|       null|            Drama|           950000|  1942-01-01|                    97|            null|       Based on Play|          Casablanca|        null| 10462500|       10462500|\n",
      "|Contemporary Fiction|          Katia Lund|             Miramax|        8.8|    166897|          R|            Drama|          3300000|   17-Jan-03|                  null|            null|Based on Book/Sho...|      Cidade de Deus|        null|  7563397|       28763397|\n",
      "|             Fantasy|       Peter Jackson|            New Line|        8.8|    387438|      PG-13|        Adventure|        109000000|   19-Dec-01|                  null|             178|Based on Book/Sho...|The Lord of the R...|        null|314776170|      868621686|\n",
      "|                null|         Frank Capra|                null|        8.7|    101499|       null|             null|          3180000|  1946-01-01|                    94|            null|                null|It's a Wonderful ...|    19339789|  6600000|        6600000|\n",
      "|Contemporary Fiction|        Bryan Singer|            Gramercy|        8.7|    266890|          R|            Drama|          6000000|   16-Aug-95|                    87|            null| Original Screenplay|  The Usual Suspects|        null| 23341568|       23341568|\n",
      "+--------------------+--------------------+--------------------+-----------+----------+-----------+-----------------+-----------------+------------+----------------------+----------------+--------------------+--------------------+------------+---------+---------------+\n",
      "only showing top 20 rows\n",
      "\n",
      "== Physical Plan ==\n",
      "AdaptiveSparkPlan isFinalPlan=false\n",
      "+- Sort [IMDB_Rating#62 DESC NULLS LAST], true, 0\n",
      "   +- Exchange rangepartitioning(IMDB_Rating#62 DESC NULLS LAST, 200), ENSURE_REQUIREMENTS, [id=#914]\n",
      "      +- FileScan json [Creative_Type#59,Director#60,Distributor#61,IMDB_Rating#62,IMDB_Votes#63L,MPAA_Rating#64,Major_Genre#65,Production_Budget#66L,Release_Date#67,Rotten_Tomatoes_Rating#68L,Running_Time_min#69L,Source#70,Title#71,US_DVD_Sales#72L,US_Gross#73L,Worldwide_Gross#74L] Batched: false, DataFilters: [], Format: JSON, Location: InMemoryFileIndex(1 paths)[file:/home/jovyan/notebooks/data/movies], PartitionFilters: [], PushedFilters: [], ReadSchema: struct<Creative_Type:string,Director:string,Distributor:string,IMDB_Rating:double,IMDB_Votes:bigi...\n",
      "\n",
      "\n"
     ]
    }
   ],
   "source": [
    "# sorting\n",
    "# TODO slide how to work rangepartitioning in Spark\n",
    "best_movies_df = movies_df.orderBy(col(\"IMDB_Rating\").desc())\n",
    "best_movies_df.show()\n",
    "best_movies_df.explain()\n",
    "\n",
    "# sorting works for numerical, strings (lexicographic), dates\n"
   ]
  },
  {
   "cell_type": "code",
   "execution_count": 25,
   "id": "796170b0-d933-41ca-b0d0-6c412c22a17a",
   "metadata": {},
   "outputs": [
    {
     "name": "stdout",
     "output_type": "stream",
     "text": [
      "+--------------------+------------------+------------------+-----------+----------+-----------+---------------+-----------------+------------+----------------------+----------------+--------------------+--------------------+------------+--------+---------------+\n",
      "|       Creative_Type|          Director|       Distributor|IMDB_Rating|IMDB_Votes|MPAA_Rating|    Major_Genre|Production_Budget|Release_Date|Rotten_Tomatoes_Rating|Running_Time_min|              Source|               Title|US_DVD_Sales|US_Gross|Worldwide_Gross|\n",
      "+--------------------+------------------+------------------+-----------+----------+-----------+---------------+-----------------+------------+----------------------+----------------+--------------------+--------------------+------------+--------+---------------+\n",
      "|        Kids Fiction|              null|     Sony Pictures|        1.4|     10886|         PG|         Comedy|         20000000|   27-Aug-04|                  null|            null| Original Screenplay|Super Babies: Bab...|        null| 9109322|        9109322|\n",
      "|                null|              null|             Romar|        1.5|       486|          R|         Comedy|          1000000|   18-Mar-05|                  null|            null| Original Screenplay|  The Helix...Loaded|        null|    3700|           3700|\n",
      "|Contemporary Fiction|              null|  20th Century Fox|        1.6|     17596|         PG|        Musical|         12000000|   20-Jun-03|                     8|            null|         Based on TV|From Justin to Kelly|        null| 4922166|        4922166|\n",
      "|Contemporary Fiction|              null|     Sony Pictures|        1.7|      7466|      PG-13|          Drama|          5600000|    1-Sep-06|                     3|            null| Original Screenplay|           Crossover|     2177636| 7009668|        7009668|\n",
      "|Contemporary Fiction|   Jason Friedberg|         Lionsgate|        1.7|     34928|      PG-13|         Comedy|         20000000|   29-Aug-08|                     2|              88| Original Screenplay|      Disaster Movie|     9859088|14190901|       34690901|\n",
      "|        Kids Fiction|              null|          New Line|        2.0|     15800|         PG|         Comedy|        100000000|   18-Feb-05|                     6|            null|Based on Comic/Gr...|     Son of the Mask|        null|17018422|       59918422|\n",
      "|Contemporary Fiction|Vondie Curtis-Hall|  20th Century Fox|        2.0|     13778|      PG-13|        Musical|          8500000|   21-Sep-01|                     7|            null| Original Screenplay|             Glitter|        null| 4273372|        4273372|\n",
      "|Contemporary Fiction|              null|           Trimark|        2.1|      3164|      PG-13|         Comedy|          7000000|   13-Mar-98|                    14|            null| Original Screenplay|Chairman of the B...|        null|  306715|         306715|\n",
      "|        Kids Fiction|              null|          Polygram|        2.1|      1456|          G|      Adventure|         15000000|    3-Apr-98|                  null|            null|         Based on TV|Barney's Great Ad...|        null|11156471|       11156471|\n",
      "|             Factual|              null|  Indican Pictures|        2.2|       380|  Not Rated|    Documentary|           200000|   10-May-02|                  null|            null|Based on Real Lif...|              Hybrid|        null|  162605|         162605|\n",
      "|Contemporary Fiction|   Jason Friedberg|  20th Century Fox|        2.2|     48975|      PG-13|         Comedy|         20000000|   26-Jan-07|                     2|              86| Original Screenplay|          Epic Movie|    16839362|39739367|       86858578|\n",
      "|        Kids Fiction|              null|     Sony Pictures|        2.2|      9038|         PG|         Comedy|         13000000|   12-Mar-99|                     2|              94| Original Screenplay|       Baby Geniuses|        null|27151490|       27151490|\n",
      "|                null|              null|               MGM|        2.2|       376|       null|           null|           558000|  1931-01-01|                  null|            null|                null|           Mata Hari|        null|  900000|         900000|\n",
      "|Contemporary Fiction|              null|   Fox Searchlight|        2.2|      6343|      PG-13|Romantic Comedy|          3000000|    7-Apr-06|                    23|            null| Original Screenplay|          Phat Girlz|    18090044| 7061128|        7271305|\n",
      "|             Fantasy|          Uwe Boll|         Lionsgate|        2.3|     26028|          R|         Horror|         20000000|   28-Jan-05|                     1|              96|       Based on Game|   Alone in the Dark|        null| 5178569|        8178569|\n",
      "|     Science Fiction|              null|      Warner Bros.|        2.3|     39316|      PG-13|         Action|         80000000|   12-May-00|                  null|             121|Based on Book/Sho...|Battlefield Earth...|        null|21471685|       29725663|\n",
      "|                null|              null|Kino International|        2.3|       236|      PG-13|          Drama|         15000000|    6-Feb-04|                  null|            null|                null|          The Return|        null|  501752|        2658490|\n",
      "|             Factual|              null|          New Line|        2.3|      3211|          R|    Documentary|          4000000|   25-Apr-03|                    35|            null|         Based on TV|     The Real Cancun|        null| 3816594|        3816594|\n",
      "|Contemporary Fiction|              null|     Sony Pictures|        2.4|      6809|         PG|         Comedy|         76000000|    8-Aug-07|                     1|              85| Original Screenplay|      Daddy Day Camp|     5405521|13235267|       18197398|\n",
      "|Contemporary Fiction|      Martin Brest|     Sony Pictures|        2.4|     29031|          R|Romantic Comedy|         54000000|    1-Aug-03|                     6|            null| Original Screenplay|               Gigli|        null| 6087542|        7266209|\n",
      "+--------------------+------------------+------------------+-----------+----------+-----------+---------------+-----------------+------------+----------------------+----------------+--------------------+--------------------+------------+--------+---------------+\n",
      "only showing top 20 rows\n",
      "\n"
     ]
    }
   ],
   "source": [
    "# put nulls first or last\n",
    "proper_worst_movies_df = movies_df.orderBy(col(\"IMDB_Rating\").asc_nulls_last())\n",
    "proper_worst_movies_df.show()"
   ]
  },
  {
   "cell_type": "markdown",
   "id": "832fd271-9793-4b9a-bcf4-c95dbbea07a4",
   "metadata": {},
   "source": [
    "Exercises\n",
    "\n",
    "1. Sum up ALL the profits of ALL the movies in the dataset\n",
    "\n",
    "2. Count how many distinct directors we have\n",
    "\n",
    "3. Show the mean, stddev for US gross revenue\n",
    "\n",
    "4. Compute the average IMDB rating, average US gross PER DIRECTOR\n",
    "\n",
    "5. Show the average difference between IMDB rating and Rotten Tomatoes rating\n"
   ]
  },
  {
   "cell_type": "markdown",
   "id": "2bc8f76d-19ec-462d-be4a-a1514a33a3b5",
   "metadata": {},
   "source": [
    "# Joins"
   ]
  },
  {
   "cell_type": "code",
   "execution_count": 28,
   "id": "1260d375-0d89-4181-b85a-32262affa288",
   "metadata": {},
   "outputs": [],
   "source": [
    "guitars_df = spark.read.json(\"data/guitars\")\n",
    "guitar_players_df = spark.read.json(\"data/guitarPlayers\")\n",
    "bands_df = spark.read.json(\"data/bands\")\n"
   ]
  },
  {
   "cell_type": "code",
   "execution_count": 29,
   "id": "0640d8bf-22dc-4ccc-bf58-42c3dd51119f",
   "metadata": {},
   "outputs": [
    {
     "name": "stdout",
     "output_type": "stream",
     "text": [
      "+----+-------+---+------------+-----------+---+------------+----+\n",
      "|band|guitars| id|        name|   hometown| id|        name|year|\n",
      "+----+-------+---+------------+-----------+---+------------+----+\n",
      "|   0|    [0]|  0|  Jimmy Page|     London|  0|Led Zeppelin|1968|\n",
      "|   1|    [1]|  1| Angus Young|     Sydney|  1|       AC/DC|1973|\n",
      "|   3|    [3]|  3|Kirk Hammett|Los Angeles|  3|   Metallica|1981|\n",
      "+----+-------+---+------------+-----------+---+------------+----+\n",
      "\n",
      "== Physical Plan ==\n",
      "AdaptiveSparkPlan isFinalPlan=false\n",
      "+- SortMergeJoin [band#837L], [id#853L], Inner\n",
      "   :- Sort [band#837L ASC NULLS FIRST], false, 0\n",
      "   :  +- Exchange hashpartitioning(band#837L, 200), ENSURE_REQUIREMENTS, [id=#1081]\n",
      "   :     +- Filter isnotnull(band#837L)\n",
      "   :        +- FileScan json [band#837L,guitars#838,id#839L,name#840] Batched: false, DataFilters: [isnotnull(band#837L)], Format: JSON, Location: InMemoryFileIndex(1 paths)[file:/home/jovyan/notebooks/data/guitarPlayers], PartitionFilters: [], PushedFilters: [IsNotNull(band)], ReadSchema: struct<band:bigint,guitars:array<bigint>,id:bigint,name:string>\n",
      "   +- Sort [id#853L ASC NULLS FIRST], false, 0\n",
      "      +- Exchange hashpartitioning(id#853L, 200), ENSURE_REQUIREMENTS, [id=#1082]\n",
      "         +- Filter isnotnull(id#853L)\n",
      "            +- FileScan json [hometown#852,id#853L,name#854,year#855L] Batched: false, DataFilters: [isnotnull(id#853L)], Format: JSON, Location: InMemoryFileIndex(1 paths)[file:/home/jovyan/notebooks/data/bands], PartitionFilters: [], PushedFilters: [IsNotNull(id)], ReadSchema: struct<hometown:string,id:bigint,name:string,year:bigint>\n",
      "\n",
      "\n"
     ]
    }
   ],
   "source": [
    "# inner joins = all rows from the \"left\" and \"right\" DF for which the condition is true\n",
    "join_condition = guitar_players_df.band == bands_df.id\n",
    "guitarists_bands_df = guitar_players_df.join(bands_df, join_condition, \"inner\")\n",
    "\n",
    "guitarists_bands_df.show()\n",
    "guitarists_bands_df.explain()\n",
    "\n",
    "\n",
    "# How to work hash partitioning and join\n",
    "\n",
    "#                     ^^ \"left\" DF            ^^ \"right\" DF \n",
    "# node 1 => 1|    [1]|  1| Angus Young|     Sydney|\n",
    "# node 2 => 1|       AC/DC|1973|\n",
    "# node 3 => 1|    [1]|  1| Angus Young|     Sydney| 1|       AC/DC|1973|\n",
    "# node 4 => 2, 4\n",
    "# node 5 => 11, 12\n",
    "#\n"
   ]
  },
  {
   "cell_type": "code",
   "execution_count": 30,
   "id": "00fea787-4ee7-4e9d-9be6-ca217f9227b3",
   "metadata": {},
   "outputs": [
    {
     "name": "stdout",
     "output_type": "stream",
     "text": [
      "+------------+\n",
      "| upper(name)|\n",
      "+------------+\n",
      "|LED ZEPPELIN|\n",
      "|       AC/DC|\n",
      "|   METALLICA|\n",
      "+------------+\n",
      "\n",
      "== Physical Plan ==\n",
      "AdaptiveSparkPlan isFinalPlan=false\n",
      "+- Project [upper(name#854) AS upper(name)#917]\n",
      "   +- SortMergeJoin [band#837L], [id#853L], Inner\n",
      "      :- Sort [band#837L ASC NULLS FIRST], false, 0\n",
      "      :  +- Exchange hashpartitioning(band#837L, 200), ENSURE_REQUIREMENTS, [id=#1241]\n",
      "      :     +- Filter isnotnull(band#837L)\n",
      "      :        +- FileScan json [band#837L] Batched: false, DataFilters: [isnotnull(band#837L)], Format: JSON, Location: InMemoryFileIndex(1 paths)[file:/home/jovyan/notebooks/data/guitarPlayers], PartitionFilters: [], PushedFilters: [IsNotNull(band)], ReadSchema: struct<band:bigint>\n",
      "      +- Sort [id#853L ASC NULLS FIRST], false, 0\n",
      "         +- Exchange hashpartitioning(id#853L, 200), ENSURE_REQUIREMENTS, [id=#1242]\n",
      "            +- Filter isnotnull(id#853L)\n",
      "               +- FileScan json [id#853L,name#854] Batched: false, DataFilters: [isnotnull(id#853L)], Format: JSON, Location: InMemoryFileIndex(1 paths)[file:/home/jovyan/notebooks/data/bands], PartitionFilters: [], PushedFilters: [IsNotNull(id)], ReadSchema: struct<id:bigint,name:string>\n",
      "\n",
      "\n"
     ]
    }
   ],
   "source": [
    "# differentiate the \"name\" column - use the reference from the original DF\n",
    "guitarists_bands_upper_df = guitarists_bands_df.select(upper(bands_df.name))\n",
    "guitarists_bands_upper_df.show()\n",
    "guitarists_bands_upper_df.explain()\n"
   ]
  },
  {
   "cell_type": "code",
   "execution_count": 31,
   "id": "af6aa573-6e85-42de-ad6a-3b251e088643",
   "metadata": {},
   "outputs": [
    {
     "name": "stdout",
     "output_type": "stream",
     "text": [
      "+----+-------+---+------------+-----------+----+------------+----+\n",
      "|band|guitars| id|        name|   hometown|  id|        name|year|\n",
      "+----+-------+---+------------+-----------+----+------------+----+\n",
      "|   0|    [0]|  0|  Jimmy Page|     London|   0|Led Zeppelin|1968|\n",
      "|   1|    [1]|  1| Angus Young|     Sydney|   1|       AC/DC|1973|\n",
      "|   2| [1, 5]|  2|Eric Clapton|       null|null|        null|null|\n",
      "|   3|    [3]|  3|Kirk Hammett|Los Angeles|   3|   Metallica|1981|\n",
      "+----+-------+---+------------+-----------+----+------------+----+\n",
      "\n"
     ]
    }
   ],
   "source": [
    "# left outer = everything in the inner join + all the rows in the LEFT DF that were not matched (with nulls in the cols for the right DF)\n",
    "guitar_players_df.join(bands_df, join_condition, \"left_outer\").show()\n"
   ]
  },
  {
   "cell_type": "code",
   "execution_count": 32,
   "id": "f8d1ff20-e573-4b1d-81c6-093f55883229",
   "metadata": {},
   "outputs": [
    {
     "name": "stdout",
     "output_type": "stream",
     "text": [
      "+----+-------+----+------------+-----------+---+------------+----+\n",
      "|band|guitars|  id|        name|   hometown| id|        name|year|\n",
      "+----+-------+----+------------+-----------+---+------------+----+\n",
      "|   0|    [0]|   0|  Jimmy Page|     London|  0|Led Zeppelin|1968|\n",
      "|   1|    [1]|   1| Angus Young|     Sydney|  1|       AC/DC|1973|\n",
      "|   3|    [3]|   3|Kirk Hammett|Los Angeles|  3|   Metallica|1981|\n",
      "|null|   null|null|        null|  Liverpool|  4| The Beatles|1960|\n",
      "+----+-------+----+------------+-----------+---+------------+----+\n",
      "\n"
     ]
    }
   ],
   "source": [
    "# right outer = everything in the inner join + all the rows in the RIGHT DF that were not matched (with nulls in the cols for the left DF)\n",
    "guitar_players_df.join(bands_df, join_condition, \"right_outer\").show()"
   ]
  },
  {
   "cell_type": "code",
   "execution_count": 33,
   "id": "038d3cf8-8996-4f91-892d-ad4a729a0e8b",
   "metadata": {},
   "outputs": [
    {
     "name": "stdout",
     "output_type": "stream",
     "text": [
      "+----+-------+----+------------+-----------+----+------------+----+\n",
      "|band|guitars|  id|        name|   hometown|  id|        name|year|\n",
      "+----+-------+----+------------+-----------+----+------------+----+\n",
      "|   0|    [0]|   0|  Jimmy Page|     London|   0|Led Zeppelin|1968|\n",
      "|   1|    [1]|   1| Angus Young|     Sydney|   1|       AC/DC|1973|\n",
      "|   2| [1, 5]|   2|Eric Clapton|       null|null|        null|null|\n",
      "|   3|    [3]|   3|Kirk Hammett|Los Angeles|   3|   Metallica|1981|\n",
      "|null|   null|null|        null|  Liverpool|   4| The Beatles|1960|\n",
      "+----+-------+----+------------+-----------+----+------------+----+\n",
      "\n"
     ]
    }
   ],
   "source": [
    "# full outer join = everythin in the inner join + all the rows in BOTH DFs that were not matched (with nulls in the other DF's cols)\n",
    "guitar_players_df.join(bands_df, join_condition, \"outer\").show()"
   ]
  },
  {
   "cell_type": "code",
   "execution_count": 34,
   "id": "438b7b56-c3ba-4b62-8437-8d63092c8038",
   "metadata": {},
   "outputs": [
    {
     "name": "stdout",
     "output_type": "stream",
     "text": [
      "+---+----+-------+------------+-----------+------------+----+\n",
      "| id|band|guitars|        name|   hometown|        name|year|\n",
      "+---+----+-------+------------+-----------+------------+----+\n",
      "|  0|   0|    [0]|  Jimmy Page|     London|Led Zeppelin|1968|\n",
      "|  1|   1|    [1]| Angus Young|     Sydney|       AC/DC|1973|\n",
      "|  3|   3|    [3]|Kirk Hammett|Los Angeles|   Metallica|1981|\n",
      "+---+----+-------+------------+-----------+------------+----+\n",
      "\n"
     ]
    }
   ],
   "source": [
    "# join on a single column\n",
    "guitar_players_df.join(bands_df, \"id\").show()"
   ]
  },
  {
   "cell_type": "code",
   "execution_count": 35,
   "id": "1a43b005-ef07-451c-a038-2f3d1679fbbb",
   "metadata": {},
   "outputs": [
    {
     "name": "stdout",
     "output_type": "stream",
     "text": [
      "+----+-------+---+------------+\n",
      "|band|guitars| id|        name|\n",
      "+----+-------+---+------------+\n",
      "|   0|    [0]|  0|  Jimmy Page|\n",
      "|   1|    [1]|  1| Angus Young|\n",
      "|   3|    [3]|  3|Kirk Hammett|\n",
      "+----+-------+---+------------+\n",
      "\n"
     ]
    }
   ],
   "source": [
    "# left semi joins = everything in the LEFT DF for which there is a row in the right DF for which the condition is true\n",
    "# more like a filter\n",
    "# equivalent SQL: select * from guitar_players WHERE EXISTS (...)\n",
    "guitar_players_df.join(bands_df, join_condition, \"left_semi\").show()"
   ]
  },
  {
   "cell_type": "code",
   "execution_count": 36,
   "id": "2e626261-861c-4225-ba72-5b2654f504d4",
   "metadata": {},
   "outputs": [
    {
     "name": "stdout",
     "output_type": "stream",
     "text": [
      "+----+-------+---+------------+\n",
      "|band|guitars| id|        name|\n",
      "+----+-------+---+------------+\n",
      "|   2| [1, 5]|  2|Eric Clapton|\n",
      "+----+-------+---+------------+\n",
      "\n"
     ]
    }
   ],
   "source": [
    "# left anti joins = everything in the LEFT DF for which there is __NO__ row in the right DF for which the condition is true\n",
    "guitar_players_df.join(bands_df, join_condition, \"left_anti\").show()"
   ]
  },
  {
   "cell_type": "markdown",
   "id": "35a8aca3-408b-4f14-b7f3-ec6f1ee01460",
   "metadata": {},
   "source": [
    "Exercises\n",
    "Read the tables in the Postgres database: employees, salaries, dept_emp\n",
    "1. show all employees and their max salary over time\n",
    "2. show all employees who were never managers\n",
    "3. for every employee, find the difference between their salary (current/latest) and \n",
    "    the max salary of their department (departments table)\n",
    "\"\"\""
   ]
  },
  {
   "cell_type": "code",
   "execution_count": null,
   "id": "88665080-68f7-4e4d-b6cd-6640a4dce5b9",
   "metadata": {},
   "outputs": [],
   "source": [
    "# WORK WITH POSTGRES FROM PyCharm project - https://github.com/vadopolski/eas-017-RDD-py\n",
    "\n",
    "def read_table(table_name):\n",
    "    return spark.read. \\\n",
    "        format(\"jdbc\"). \\\n",
    "        option(\"driver\", driver). \\\n",
    "        option(\"url\", url). \\\n",
    "        option(\"user\", user). \\\n",
    "        option(\"password\", password). \\\n",
    "        option(\"dbtable\", \"public.\" + table_name). \\\n",
    "        load()\n",
    "\n",
    "employees_df = read_table(\"employees\")\n",
    "salaries_df = read_table(\"salaries\")\n",
    "dept_managers_df = read_table(\"dept_manager\")\n",
    "dept_emp_df = read_table(\"dept_emp\")\n",
    "departments_df = read_table(\"departments\")\n"
   ]
  }
 ],
 "metadata": {
  "kernelspec": {
   "display_name": "Python 3 (ipykernel)",
   "language": "python",
   "name": "python3"
  },
  "language_info": {
   "codemirror_mode": {
    "name": "ipython",
    "version": 3
   },
   "file_extension": ".py",
   "mimetype": "text/x-python",
   "name": "python",
   "nbconvert_exporter": "python",
   "pygments_lexer": "ipython3",
   "version": "3.9.10"
  }
 },
 "nbformat": 4,
 "nbformat_minor": 5
}
